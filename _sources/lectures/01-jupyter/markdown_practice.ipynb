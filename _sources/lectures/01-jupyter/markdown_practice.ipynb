{
 "cells": [
  {
   "cell_type": "markdown",
   "id": "f685e7a9-0ae3-4dc3-9b6d-0133b130df0d",
   "metadata": {},
   "source": [
    "Practice questions for Markdown\n",
    "===============================\n",
    "\n",
    "Run this cell, then answer the questions. Your answers will automatically be saved in the state.json file. Do not delete this file."
   ]
  },
  {
   "cell_type": "code",
   "execution_count": 1,
   "id": "9cbafceb-3867-4b1d-9283-69cdcb720ad4",
   "metadata": {},
   "outputs": [
    {
     "name": "stderr",
     "output_type": "stream",
     "text": [
      "/home/jupyter-jkitchin@andrew.cm-11dd7/s25-06623-source/s25-06623/lectures/01-jupyter/markdown_practice.py:38: SyntaxWarning: invalid escape sequence '\\_'\n",
      "  '¯\\_(ツ)_/¯',\n"
     ]
    },
    {
     "data": {
      "application/vnd.jupyter.widget-view+json": {
       "model_id": "f1bebd59f4dd413791d670f9e1b43b4d",
       "version_major": 2,
       "version_minor": 0
      },
      "text/plain": [
       "VBox(children=(HTMLMath(value='What is the correct way to make text bold in markdown?'), RadioButtons(descript…"
      ]
     },
     "metadata": {},
     "output_type": "display_data"
    },
    {
     "data": {
      "application/vnd.jupyter.widget-view+json": {
       "model_id": "b4ceb68acb174d488e3c8323a10c7e87",
       "version_major": 2,
       "version_minor": 0
      },
      "text/plain": [
       "VBox(children=(HTMLMath(value='What is the correct way to make italics text in markdown?'), RadioButtons(descr…"
      ]
     },
     "metadata": {},
     "output_type": "display_data"
    },
    {
     "data": {
      "application/vnd.jupyter.widget-view+json": {
       "model_id": "e1924d0a6dd44c1bab0118d7b8b342be",
       "version_major": 2,
       "version_minor": 0
      },
      "text/plain": [
       "VBox(children=(HTMLMath(value='Which is a level 3 heading in Markdown?'), RadioButtons(description='Answer:', …"
      ]
     },
     "metadata": {},
     "output_type": "display_data"
    },
    {
     "data": {
      "application/vnd.jupyter.widget-view+json": {
       "model_id": "5a2503611ab24f1c872c5b17190898dc",
       "version_major": 2,
       "version_minor": 0
      },
      "text/plain": [
       "VBox(children=(HTMLMath(value='How do you represent this equation int0xex? in Markdown'), RadioButtons(descrip…"
      ]
     },
     "metadata": {},
     "output_type": "display_data"
    },
    {
     "data": {
      "application/vnd.jupyter.widget-view+json": {
       "model_id": "28658d7dd1204a3fa5404227a3c40566",
       "version_major": 2,
       "version_minor": 0
      },
      "text/plain": [
       "VBox(children=(HTMLMath(value='What is the syntax for a link in Markdown?'), RadioButtons(description='Answer:…"
      ]
     },
     "metadata": {},
     "output_type": "display_data"
    }
   ],
   "source": [
    "%run markdown_practice.py"
   ]
  },
  {
   "cell_type": "code",
   "execution_count": null,
   "id": "f8531131-c281-4190-b982-43944bc0accd",
   "metadata": {},
   "outputs": [],
   "source": []
  }
 ],
 "metadata": {
  "kernelspec": {
   "display_name": "Python 3 (ipykernel)",
   "language": "python",
   "name": "python3"
  },
  "language_info": {
   "codemirror_mode": {
    "name": "ipython",
    "version": 3
   },
   "file_extension": ".py",
   "mimetype": "text/x-python",
   "name": "python",
   "nbconvert_exporter": "python",
   "pygments_lexer": "ipython3",
   "version": "3.12.6"
  },
  "widgets": {
   "application/vnd.jupyter.widget-state+json": {
    "state": {},
    "version_major": 2,
    "version_minor": 0
   }
  }
 },
 "nbformat": 4,
 "nbformat_minor": 5
}
