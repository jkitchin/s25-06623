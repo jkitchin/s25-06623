{
 "cells": [
  {
   "cell_type": "markdown",
   "metadata": {
    "id": "3M4npFr5Knxb"
   },
   "source": [
    "[TOC](../toc.ipynb)\n",
    "\n",
    "Advanced topics in nonlinear algebra\n",
    "====================================\n",
    "\n",
    "- KEYWORDS: scipy.optimize.root, numpy.roots, numpy.polyder, numpy.polyval, numpy.polyint, numpy.poly1d\n"
   ]
  },
  {
   "cell_type": "markdown",
   "metadata": {
    "id": "4Fi84ZO0Knxd"
   },
   "source": [
    "# Special nonlinear systems - polynomials\n",
    "\n"
   ]
  },
  {
   "cell_type": "markdown",
   "metadata": {
    "id": "6z_D_ImzKnxf"
   },
   "source": [
    "Polynomials are a special class of nonlinear algebraic equations that are especially easy to solve. A polynomial is linear in the coefficients in front of the variable. If we consider the following $n^{th}$ order polynomial:\n",
    "\n",
    "$p_0 x^n + p_1 x^{(n-1)} + ... + p_{n-1} x + p_n = 0$\n",
    "\n",
    "Let's be specific:\n",
    "\n",
    "$x^2 + 8x + 16 = 0$\n",
    "\n",
    "We express this as [1, 8, 16]."
   ]
  },
  {
   "cell_type": "code",
   "execution_count": 1,
   "metadata": {
    "executionInfo": {
     "elapsed": 145,
     "status": "ok",
     "timestamp": 1632831046588,
     "user": {
      "displayName": "John Kitchin",
      "photoUrl": "https://lh3.googleusercontent.com/a/default-user=s64",
      "userId": "14782011281593705406"
     },
     "user_tz": 240
    },
    "id": "Ega8Og2rTHKS"
   },
   "outputs": [
    {
     "data": {
      "text/plain": [
       "\u001b[0;31mSignature:\u001b[0m       \u001b[0mnp\u001b[0m\u001b[0;34m.\u001b[0m\u001b[0mroots\u001b[0m\u001b[0;34m(\u001b[0m\u001b[0mp\u001b[0m\u001b[0;34m)\u001b[0m\u001b[0;34m\u001b[0m\u001b[0;34m\u001b[0m\u001b[0m\n",
       "\u001b[0;31mCall signature:\u001b[0m  \u001b[0mnp\u001b[0m\u001b[0;34m.\u001b[0m\u001b[0mroots\u001b[0m\u001b[0;34m(\u001b[0m\u001b[0;34m*\u001b[0m\u001b[0margs\u001b[0m\u001b[0;34m,\u001b[0m \u001b[0;34m**\u001b[0m\u001b[0mkwargs\u001b[0m\u001b[0;34m)\u001b[0m\u001b[0;34m\u001b[0m\u001b[0;34m\u001b[0m\u001b[0m\n",
       "\u001b[0;31mType:\u001b[0m            _ArrayFunctionDispatcher\n",
       "\u001b[0;31mString form:\u001b[0m     <function roots at 0x7ea0c8111260>\n",
       "\u001b[0;31mFile:\u001b[0m            /opt/tljh/user/lib/python3.12/site-packages/numpy/lib/_polynomial_impl.py\n",
       "\u001b[0;31mDocstring:\u001b[0m      \n",
       "Return the roots of a polynomial with coefficients given in p.\n",
       "\n",
       ".. note::\n",
       "   This forms part of the old polynomial API. Since version 1.4, the\n",
       "   new polynomial API defined in `numpy.polynomial` is preferred.\n",
       "   A summary of the differences can be found in the\n",
       "   :doc:`transition guide </reference/routines.polynomials>`.\n",
       "\n",
       "The values in the rank-1 array `p` are coefficients of a polynomial.\n",
       "If the length of `p` is n+1 then the polynomial is described by::\n",
       "\n",
       "  p[0] * x**n + p[1] * x**(n-1) + ... + p[n-1]*x + p[n]\n",
       "\n",
       "Parameters\n",
       "----------\n",
       "p : array_like\n",
       "    Rank-1 array of polynomial coefficients.\n",
       "\n",
       "Returns\n",
       "-------\n",
       "out : ndarray\n",
       "    An array containing the roots of the polynomial.\n",
       "\n",
       "Raises\n",
       "------\n",
       "ValueError\n",
       "    When `p` cannot be converted to a rank-1 array.\n",
       "\n",
       "See also\n",
       "--------\n",
       "poly : Find the coefficients of a polynomial with a given sequence\n",
       "       of roots.\n",
       "polyval : Compute polynomial values.\n",
       "polyfit : Least squares polynomial fit.\n",
       "poly1d : A one-dimensional polynomial class.\n",
       "\n",
       "Notes\n",
       "-----\n",
       "The algorithm relies on computing the eigenvalues of the\n",
       "companion matrix [1]_.\n",
       "\n",
       "References\n",
       "----------\n",
       ".. [1] R. A. Horn & C. R. Johnson, *Matrix Analysis*.  Cambridge, UK:\n",
       "    Cambridge University Press, 1999, pp. 146-7.\n",
       "\n",
       "Examples\n",
       "--------\n",
       ">>> import numpy as np\n",
       ">>> coeff = [3.2, 2, 1]\n",
       ">>> np.roots(coeff)\n",
       "array([-0.3125+0.46351241j, -0.3125-0.46351241j])\n",
       "\u001b[0;31mClass docstring:\u001b[0m\n",
       "Class to wrap functions with checks for __array_function__ overrides.\n",
       "\n",
       "All arguments are required, and can only be passed by position.\n",
       "\n",
       "Parameters\n",
       "----------\n",
       "dispatcher : function or None\n",
       "    The dispatcher function that returns a single sequence-like object\n",
       "    of all arguments relevant.  It must have the same signature (except\n",
       "    the default values) as the actual implementation.\n",
       "    If ``None``, this is a ``like=`` dispatcher and the\n",
       "    ``_ArrayFunctionDispatcher`` must be called with ``like`` as the\n",
       "    first (additional and positional) argument.\n",
       "implementation : function\n",
       "    Function that implements the operation on NumPy arrays without\n",
       "    overrides.  Arguments passed calling the ``_ArrayFunctionDispatcher``\n",
       "    will be forwarded to this (and the ``dispatcher``) as if using\n",
       "    ``*args, **kwargs``.\n",
       "\n",
       "Attributes\n",
       "----------\n",
       "_implementation : function\n",
       "    The original implementation passed in."
      ]
     },
     "metadata": {},
     "output_type": "display_data"
    }
   ],
   "source": [
    "import numpy as np\n",
    "?np.roots"
   ]
  },
  {
   "cell_type": "code",
   "execution_count": 2,
   "metadata": {
    "colab": {
     "base_uri": "https://localhost:8080/"
    },
    "executionInfo": {
     "elapsed": 148,
     "status": "ok",
     "timestamp": 1632831047910,
     "user": {
      "displayName": "John Kitchin",
      "photoUrl": "https://lh3.googleusercontent.com/a/default-user=s64",
      "userId": "14782011281593705406"
     },
     "user_tz": 240
    },
    "id": "ePUgnPp1Knxg",
    "outputId": "57ff538a-df24-4366-91a4-8b0612d6364f"
   },
   "outputs": [
    {
     "data": {
      "text/plain": [
       "array([-4., -4.])"
      ]
     },
     "execution_count": 2,
     "metadata": {},
     "output_type": "execute_result"
    }
   ],
   "source": [
    "p = [1, 8, 16]\n",
    "r = np.roots(p)\n",
    "r"
   ]
  },
  {
   "cell_type": "code",
   "execution_count": 3,
   "metadata": {
    "colab": {
     "base_uri": "https://localhost:8080/"
    },
    "executionInfo": {
     "elapsed": 124,
     "status": "ok",
     "timestamp": 1632831048894,
     "user": {
      "displayName": "John Kitchin",
      "photoUrl": "https://lh3.googleusercontent.com/a/default-user=s64",
      "userId": "14782011281593705406"
     },
     "user_tz": 240
    },
    "id": "zYpGiU5pTV0c",
    "outputId": "be975ce8-7779-4dc8-e38b-a11a49737d27"
   },
   "outputs": [
    {
     "data": {
      "text/plain": [
       "array([0., 0.])"
      ]
     },
     "execution_count": 3,
     "metadata": {},
     "output_type": "execute_result"
    }
   ],
   "source": [
    "r**2 + 8 * r + 16"
   ]
  },
  {
   "cell_type": "code",
   "execution_count": 4,
   "metadata": {
    "colab": {
     "base_uri": "https://localhost:8080/",
     "height": 265
    },
    "executionInfo": {
     "elapsed": 325,
     "status": "ok",
     "timestamp": 1632831055661,
     "user": {
      "displayName": "John Kitchin",
      "photoUrl": "https://lh3.googleusercontent.com/a/default-user=s64",
      "userId": "14782011281593705406"
     },
     "user_tz": 240
    },
    "id": "MrhXZNo2wofU",
    "outputId": "73d6b645-718f-464b-f9d7-e0daf5fdb545"
   },
   "outputs": [
    {
     "data": {
      "image/png": "[encoded data removed]",
      "text/plain": [
       "<Figure size 640x480 with 1 Axes>"
      ]
     },
     "metadata": {},
     "output_type": "display_data"
    }
   ],
   "source": [
    "import matplotlib.pyplot as plt\n",
    "\n",
    "X = np.linspace(-5, -3)\n",
    "y = X**2 + 8 * X + 16\n",
    "plt.plot(X, y)\n",
    "plt.xlabel('x')\n",
    "plt.ylabel('y');"
   ]
  },
  {
   "cell_type": "markdown",
   "metadata": {
    "id": "PIwWFC7LKnxr"
   },
   "source": [
    "Note we get all the roots. We can check that with the `numpy.polyval` command.\n",
    "\n"
   ]
  },
  {
   "cell_type": "code",
   "execution_count": 5,
   "metadata": {
    "executionInfo": {
     "elapsed": 129,
     "status": "ok",
     "timestamp": 1632831124698,
     "user": {
      "displayName": "John Kitchin",
      "photoUrl": "https://lh3.googleusercontent.com/a/default-user=s64",
      "userId": "14782011281593705406"
     },
     "user_tz": 240
    },
    "id": "jY-Aqzp0UZz6"
   },
   "outputs": [
    {
     "data": {
      "text/plain": [
       "\u001b[0;31mSignature:\u001b[0m       \u001b[0mnp\u001b[0m\u001b[0;34m.\u001b[0m\u001b[0mpolyval\u001b[0m\u001b[0;34m(\u001b[0m\u001b[0mp\u001b[0m\u001b[0;34m,\u001b[0m \u001b[0mx\u001b[0m\u001b[0;34m)\u001b[0m\u001b[0;34m\u001b[0m\u001b[0;34m\u001b[0m\u001b[0m\n",
       "\u001b[0;31mCall signature:\u001b[0m  \u001b[0mnp\u001b[0m\u001b[0;34m.\u001b[0m\u001b[0mpolyval\u001b[0m\u001b[0;34m(\u001b[0m\u001b[0;34m*\u001b[0m\u001b[0margs\u001b[0m\u001b[0;34m,\u001b[0m \u001b[0;34m**\u001b[0m\u001b[0mkwargs\u001b[0m\u001b[0;34m)\u001b[0m\u001b[0;34m\u001b[0m\u001b[0;34m\u001b[0m\u001b[0m\n",
       "\u001b[0;31mType:\u001b[0m            _ArrayFunctionDispatcher\n",
       "\u001b[0;31mString form:\u001b[0m     <function polyval at 0x7ea0c8111760>\n",
       "\u001b[0;31mFile:\u001b[0m            /opt/tljh/user/lib/python3.12/site-packages/numpy/lib/_polynomial_impl.py\n",
       "\u001b[0;31mDocstring:\u001b[0m      \n",
       "Evaluate a polynomial at specific values.\n",
       "\n",
       ".. note::\n",
       "   This forms part of the old polynomial API. Since version 1.4, the\n",
       "   new polynomial API defined in `numpy.polynomial` is preferred.\n",
       "   A summary of the differences can be found in the\n",
       "   :doc:`transition guide </reference/routines.polynomials>`.\n",
       "\n",
       "If `p` is of length N, this function returns the value::\n",
       "\n",
       "    p[0]*x**(N-1) + p[1]*x**(N-2) + ... + p[N-2]*x + p[N-1]\n",
       "\n",
       "If `x` is a sequence, then ``p(x)`` is returned for each element of ``x``.\n",
       "If `x` is another polynomial then the composite polynomial ``p(x(t))``\n",
       "is returned.\n",
       "\n",
       "Parameters\n",
       "----------\n",
       "p : array_like or poly1d object\n",
       "   1D array of polynomial coefficients (including coefficients equal\n",
       "   to zero) from highest degree to the constant term, or an\n",
       "   instance of poly1d.\n",
       "x : array_like or poly1d object\n",
       "   A number, an array of numbers, or an instance of poly1d, at\n",
       "   which to evaluate `p`.\n",
       "\n",
       "Returns\n",
       "-------\n",
       "values : ndarray or poly1d\n",
       "   If `x` is a poly1d instance, the result is the composition of the two\n",
       "   polynomials, i.e., `x` is \"substituted\" in `p` and the simplified\n",
       "   result is returned. In addition, the type of `x` - array_like or\n",
       "   poly1d - governs the type of the output: `x` array_like => `values`\n",
       "   array_like, `x` a poly1d object => `values` is also.\n",
       "\n",
       "See Also\n",
       "--------\n",
       "poly1d: A polynomial class.\n",
       "\n",
       "Notes\n",
       "-----\n",
       "Horner's scheme [1]_ is used to evaluate the polynomial. Even so,\n",
       "for polynomials of high degree the values may be inaccurate due to\n",
       "rounding errors. Use carefully.\n",
       "\n",
       "If `x` is a subtype of `ndarray` the return value will be of the same type.\n",
       "\n",
       "References\n",
       "----------\n",
       ".. [1] I. N. Bronshtein, K. A. Semendyayev, and K. A. Hirsch (Eng.\n",
       "   trans. Ed.), *Handbook of Mathematics*, New York, Van Nostrand\n",
       "   Reinhold Co., 1985, pg. 720.\n",
       "\n",
       "Examples\n",
       "--------\n",
       ">>> import numpy as np\n",
       ">>> np.polyval([3,0,1], 5)  # 3 * 5**2 + 0 * 5**1 + 1\n",
       "76\n",
       ">>> np.polyval([3,0,1], np.poly1d(5))\n",
       "poly1d([76])\n",
       ">>> np.polyval(np.poly1d([3,0,1]), 5)\n",
       "76\n",
       ">>> np.polyval(np.poly1d([3,0,1]), np.poly1d(5))\n",
       "poly1d([76])\n",
       "\u001b[0;31mClass docstring:\u001b[0m\n",
       "Class to wrap functions with checks for __array_function__ overrides.\n",
       "\n",
       "All arguments are required, and can only be passed by position.\n",
       "\n",
       "Parameters\n",
       "----------\n",
       "dispatcher : function or None\n",
       "    The dispatcher function that returns a single sequence-like object\n",
       "    of all arguments relevant.  It must have the same signature (except\n",
       "    the default values) as the actual implementation.\n",
       "    If ``None``, this is a ``like=`` dispatcher and the\n",
       "    ``_ArrayFunctionDispatcher`` must be called with ``like`` as the\n",
       "    first (additional and positional) argument.\n",
       "implementation : function\n",
       "    Function that implements the operation on NumPy arrays without\n",
       "    overrides.  Arguments passed calling the ``_ArrayFunctionDispatcher``\n",
       "    will be forwarded to this (and the ``dispatcher``) as if using\n",
       "    ``*args, **kwargs``.\n",
       "\n",
       "Attributes\n",
       "----------\n",
       "_implementation : function\n",
       "    The original implementation passed in."
      ]
     },
     "metadata": {},
     "output_type": "display_data"
    }
   ],
   "source": [
    "?np.polyval"
   ]
  },
  {
   "cell_type": "code",
   "execution_count": 6,
   "metadata": {
    "colab": {
     "base_uri": "https://localhost:8080/"
    },
    "executionInfo": {
     "elapsed": 139,
     "status": "ok",
     "timestamp": 1632831155357,
     "user": {
      "displayName": "John Kitchin",
      "photoUrl": "https://lh3.googleusercontent.com/a/default-user=s64",
      "userId": "14782011281593705406"
     },
     "user_tz": 240
    },
    "id": "k_99Ce0yKnxs",
    "outputId": "9dcac4be-b217-4a13-d659-5138147983c3"
   },
   "outputs": [
    {
     "data": {
      "text/plain": [
       "array([0., 0.])"
      ]
     },
     "execution_count": 6,
     "metadata": {},
     "output_type": "execute_result"
    }
   ],
   "source": [
    "np.polyval(p, r)  # Another new command"
   ]
  },
  {
   "cell_type": "markdown",
   "metadata": {
    "id": "jtx6LnekKnx0"
   },
   "source": [
    "We can also use this to plot a polynomial.\n",
    "\n"
   ]
  },
  {
   "cell_type": "code",
   "execution_count": 7,
   "metadata": {
    "colab": {
     "base_uri": "https://localhost:8080/",
     "height": 279
    },
    "executionInfo": {
     "elapsed": 329,
     "status": "ok",
     "timestamp": 1632831170927,
     "user": {
      "displayName": "John Kitchin",
      "photoUrl": "https://lh3.googleusercontent.com/a/default-user=s64",
      "userId": "14782011281593705406"
     },
     "user_tz": 240
    },
    "id": "ykus1zyQKnx1",
    "outputId": "7c6db83c-bfe7-474a-fb46-12b8648b41a3"
   },
   "outputs": [
    {
     "data": {
      "image/png": "[encoded data removed]",
      "text/plain": [
       "<Figure size 640x480 with 1 Axes>"
      ]
     },
     "metadata": {},
     "output_type": "display_data"
    }
   ],
   "source": [
    "import numpy as np\n",
    "\n",
    "x = np.linspace(-5, -3)\n",
    "y = np.polyval(p, x)\n",
    "\n",
    "import matplotlib.pyplot as plt\n",
    "\n",
    "plt.plot(x, y)\n",
    "plt.xlabel(\"x\")\n",
    "plt.ylabel(\"y\");"
   ]
  },
  {
   "cell_type": "code",
   "execution_count": 8,
   "metadata": {
    "colab": {
     "base_uri": "https://localhost:8080/"
    },
    "executionInfo": {
     "elapsed": 132,
     "status": "ok",
     "timestamp": 1632831370918,
     "user": {
      "displayName": "John Kitchin",
      "photoUrl": "https://lh3.googleusercontent.com/a/default-user=s64",
      "userId": "14782011281593705406"
     },
     "user_tz": 240
    },
    "id": "d37RPOG_yH2Q",
    "outputId": "7462f5b5-5c8b-4ac0-be4a-b576469f425d"
   },
   "outputs": [
    {
     "data": {
      "text/plain": [
       " message: The solution converged.\n",
       " success: True\n",
       "  status: 1\n",
       "     fun: [ 0.000e+00]\n",
       "       x: [-4.000e+00]\n",
       "  method: hybr\n",
       "    nfev: 39\n",
       "    fjac: [[-1.000e+00]]\n",
       "       r: [-9.792e-08]\n",
       "     qtf: [-7.105e-15]"
      ]
     },
     "execution_count": 8,
     "metadata": {},
     "output_type": "execute_result"
    }
   ],
   "source": [
    "from scipy.optimize import root\n",
    "\n",
    "\n",
    "def f(x):\n",
    "    return np.polyval(p, x)\n",
    "\n",
    "\n",
    "root(f, -3.01)"
   ]
  },
  {
   "cell_type": "markdown",
   "metadata": {
    "id": "PHr2FKljKnx8"
   },
   "source": [
    "Why is this so convenient?\n",
    "\n"
   ]
  },
  {
   "cell_type": "markdown",
   "metadata": {
    "id": "pvel_vtkKnx9"
   },
   "source": [
    "## Cubic equations of state\n",
    "\n"
   ]
  },
  {
   "cell_type": "markdown",
   "metadata": {
    "id": "rE8kGNzsKnx-"
   },
   "source": [
    "There are applications of polynomials in thermodynamics. The van der waal equation is a cubic polynomial $f(V) = V^3 - \\frac{p n b + n R T}{p} V^2 + \\frac{n^2 a}{p}V - \\frac{n^3 a b}{p} = 0$, where $a$ and $b$ are constants, $p$ is the pressure, $R$ is the gas constant, $T$ is an absolute temperature and $n$ is the number of moles. The roots of this equation tell you the volume of the gas at those conditions.\n",
    "\n"
   ]
  },
  {
   "cell_type": "code",
   "execution_count": 9,
   "metadata": {
    "colab": {
     "base_uri": "https://localhost:8080/"
    },
    "executionInfo": {
     "elapsed": 127,
     "status": "ok",
     "timestamp": 1632832066074,
     "user": {
      "displayName": "John Kitchin",
      "photoUrl": "https://lh3.googleusercontent.com/a/default-user=s64",
      "userId": "14782011281593705406"
     },
     "user_tz": 240
    },
    "id": "mNXudKwhKnx_",
    "outputId": "e4374264-bcde-4353-be91-388bcc8f0ccf"
   },
   "outputs": [
    {
     "name": "stdout",
     "output_type": "stream",
     "text": [
      "[5.09432376+0.j         4.4006681 +1.43502848j 4.4006681 -1.43502848j]\n"
     ]
    }
   ],
   "source": [
    "# numerical values of the constants\n",
    "a = 3.49e4\n",
    "b = 1.45\n",
    "p = 679.7  # pressure in psi\n",
    "T = 683  # T in Rankine\n",
    "n = 1.136  # lb-moles\n",
    "R = 10.73  # ft^3 * psi / R / lb-mol\n",
    "\n",
    "ppar = [\n",
    "    1.0,  # V**3\n",
    "    -(p * n * b + n * R * T) / p,  # V**2\n",
    "    n**2 * a / p,  # V\n",
    "    -(n**3) * a * b / p,\n",
    "]  # constant, together this defines f(V)\n",
    "\n",
    "print(np.roots(ppar))"
   ]
  },
  {
   "cell_type": "code",
   "execution_count": 10,
   "metadata": {
    "colab": {
     "base_uri": "https://localhost:8080/"
    },
    "executionInfo": {
     "elapsed": 129,
     "status": "ok",
     "timestamp": 1632831897660,
     "user": {
      "displayName": "John Kitchin",
      "photoUrl": "https://lh3.googleusercontent.com/a/default-user=s64",
      "userId": "14782011281593705406"
     },
     "user_tz": 240
    },
    "id": "_dU6z9pYXEMJ",
    "outputId": "1a8abb46-98c4-48aa-a315-7ef5d64b96be"
   },
   "outputs": [
    {
     "data": {
      "text/plain": [
       "np.float64(0.0)"
      ]
     },
     "execution_count": 10,
     "metadata": {},
     "output_type": "execute_result"
    }
   ],
   "source": [
    "rr = np.roots(ppar)\n",
    "(rr[0] * 2).imag"
   ]
  },
  {
   "cell_type": "code",
   "execution_count": 11,
   "metadata": {
    "colab": {
     "base_uri": "https://localhost:8080/",
     "height": 265
    },
    "executionInfo": {
     "elapsed": 351,
     "status": "ok",
     "timestamp": 1632831976929,
     "user": {
      "displayName": "John Kitchin",
      "photoUrl": "https://lh3.googleusercontent.com/a/default-user=s64",
      "userId": "14782011281593705406"
     },
     "user_tz": 240
    },
    "id": "tiL2KVnQzmx9",
    "outputId": "bc5eb9f0-a838-4748-801d-e4d392c91fcf"
   },
   "outputs": [
    {
     "data": {
      "image/png": "[encoded data removed]",
      "text/plain": [
       "<Figure size 640x480 with 1 Axes>"
      ]
     },
     "metadata": {},
     "output_type": "display_data"
    }
   ],
   "source": [
    "V = np.linspace(0, 10)\n",
    "plt.plot(V, np.polyval(ppar, V));"
   ]
  },
  {
   "cell_type": "markdown",
   "metadata": {
    "id": "aqIMOi42KnyF"
   },
   "source": [
    "Note that only one root is real (and even then, we have to interpret 0.j as not being imaginary. Also, in a cubic polynomial, there can only be two imaginary roots). In this case that means there is only one phase present.\n",
    "\n",
    "Remember root? Two of these roots are not accessible in root because they are imaginary.\n"
   ]
  },
  {
   "cell_type": "markdown",
   "metadata": {
    "id": "vRczeeunKnyG"
   },
   "source": [
    "## Other useful things to remember about polynomials\n",
    "\n"
   ]
  },
  {
   "cell_type": "markdown",
   "metadata": {
    "id": "HXTmPjshKnyH"
   },
   "source": [
    "You can easily get the parameters of the derivative of the polynomial with `numpy.polyder`.\n",
    "\n"
   ]
  },
  {
   "cell_type": "code",
   "execution_count": 12,
   "metadata": {
    "executionInfo": {
     "elapsed": 214,
     "status": "ok",
     "timestamp": 1632832175798,
     "user": {
      "displayName": "John Kitchin",
      "photoUrl": "https://lh3.googleusercontent.com/a/default-user=s64",
      "userId": "14782011281593705406"
     },
     "user_tz": 240
    },
    "id": "w6sLubZHYZiq"
   },
   "outputs": [
    {
     "data": {
      "text/plain": [
       "\u001b[0;31mSignature:\u001b[0m       \u001b[0mnp\u001b[0m\u001b[0;34m.\u001b[0m\u001b[0mpolyder\u001b[0m\u001b[0;34m(\u001b[0m\u001b[0mp\u001b[0m\u001b[0;34m,\u001b[0m \u001b[0mm\u001b[0m\u001b[0;34m=\u001b[0m\u001b[0;36m1\u001b[0m\u001b[0;34m)\u001b[0m\u001b[0;34m\u001b[0m\u001b[0;34m\u001b[0m\u001b[0m\n",
       "\u001b[0;31mCall signature:\u001b[0m  \u001b[0mnp\u001b[0m\u001b[0;34m.\u001b[0m\u001b[0mpolyder\u001b[0m\u001b[0;34m(\u001b[0m\u001b[0;34m*\u001b[0m\u001b[0margs\u001b[0m\u001b[0;34m,\u001b[0m \u001b[0;34m**\u001b[0m\u001b[0mkwargs\u001b[0m\u001b[0;34m)\u001b[0m\u001b[0;34m\u001b[0m\u001b[0;34m\u001b[0m\u001b[0m\n",
       "\u001b[0;31mType:\u001b[0m            _ArrayFunctionDispatcher\n",
       "\u001b[0;31mString form:\u001b[0m     <function polyder at 0x7ea0c81114e0>\n",
       "\u001b[0;31mFile:\u001b[0m            /opt/tljh/user/lib/python3.12/site-packages/numpy/lib/_polynomial_impl.py\n",
       "\u001b[0;31mDocstring:\u001b[0m      \n",
       "Return the derivative of the specified order of a polynomial.\n",
       "\n",
       ".. note::\n",
       "   This forms part of the old polynomial API. Since version 1.4, the\n",
       "   new polynomial API defined in `numpy.polynomial` is preferred.\n",
       "   A summary of the differences can be found in the\n",
       "   :doc:`transition guide </reference/routines.polynomials>`.\n",
       "\n",
       "Parameters\n",
       "----------\n",
       "p : poly1d or sequence\n",
       "    Polynomial to differentiate.\n",
       "    A sequence is interpreted as polynomial coefficients, see `poly1d`.\n",
       "m : int, optional\n",
       "    Order of differentiation (default: 1)\n",
       "\n",
       "Returns\n",
       "-------\n",
       "der : poly1d\n",
       "    A new polynomial representing the derivative.\n",
       "\n",
       "See Also\n",
       "--------\n",
       "polyint : Anti-derivative of a polynomial.\n",
       "poly1d : Class for one-dimensional polynomials.\n",
       "\n",
       "Examples\n",
       "--------\n",
       "The derivative of the polynomial :math:`x^3 + x^2 + x^1 + 1` is:\n",
       "\n",
       ">>> import numpy as np\n",
       "\n",
       ">>> p = np.poly1d([1,1,1,1])\n",
       ">>> p2 = np.polyder(p)\n",
       ">>> p2\n",
       "poly1d([3, 2, 1])\n",
       "\n",
       "which evaluates to:\n",
       "\n",
       ">>> p2(2.)\n",
       "17.0\n",
       "\n",
       "We can verify this, approximating the derivative with\n",
       "``(f(x + h) - f(x))/h``:\n",
       "\n",
       ">>> (p(2. + 0.001) - p(2.)) / 0.001\n",
       "17.007000999997857\n",
       "\n",
       "The fourth-order derivative of a 3rd-order polynomial is zero:\n",
       "\n",
       ">>> np.polyder(p, 2)\n",
       "poly1d([6, 2])\n",
       ">>> np.polyder(p, 3)\n",
       "poly1d([6])\n",
       ">>> np.polyder(p, 4)\n",
       "poly1d([0])\n",
       "\u001b[0;31mClass docstring:\u001b[0m\n",
       "Class to wrap functions with checks for __array_function__ overrides.\n",
       "\n",
       "All arguments are required, and can only be passed by position.\n",
       "\n",
       "Parameters\n",
       "----------\n",
       "dispatcher : function or None\n",
       "    The dispatcher function that returns a single sequence-like object\n",
       "    of all arguments relevant.  It must have the same signature (except\n",
       "    the default values) as the actual implementation.\n",
       "    If ``None``, this is a ``like=`` dispatcher and the\n",
       "    ``_ArrayFunctionDispatcher`` must be called with ``like`` as the\n",
       "    first (additional and positional) argument.\n",
       "implementation : function\n",
       "    Function that implements the operation on NumPy arrays without\n",
       "    overrides.  Arguments passed calling the ``_ArrayFunctionDispatcher``\n",
       "    will be forwarded to this (and the ``dispatcher``) as if using\n",
       "    ``*args, **kwargs``.\n",
       "\n",
       "Attributes\n",
       "----------\n",
       "_implementation : function\n",
       "    The original implementation passed in."
      ]
     },
     "metadata": {},
     "output_type": "display_data"
    }
   ],
   "source": [
    "?np.polyder"
   ]
  },
  {
   "cell_type": "markdown",
   "metadata": {
    "id": "yb3h41JAYhu3"
   },
   "source": [
    "$y = x^2 + 8x + 16$\n",
    "\n",
    "\n",
    "$y'(x) = 2x + 8$"
   ]
  },
  {
   "cell_type": "code",
   "execution_count": 13,
   "metadata": {
    "colab": {
     "base_uri": "https://localhost:8080/"
    },
    "executionInfo": {
     "elapsed": 155,
     "status": "ok",
     "timestamp": 1632832285263,
     "user": {
      "displayName": "John Kitchin",
      "photoUrl": "https://lh3.googleusercontent.com/a/default-user=s64",
      "userId": "14782011281593705406"
     },
     "user_tz": 240
    },
    "id": "SZl-2LfRKnyI",
    "outputId": "1bc4525e-2c55-493e-8cf6-106907d4f278"
   },
   "outputs": [
    {
     "data": {
      "text/plain": [
       "array([2, 8])"
      ]
     },
     "execution_count": 13,
     "metadata": {},
     "output_type": "execute_result"
    }
   ],
   "source": [
    "p = [1, 8, 16]\n",
    "\n",
    "pd = np.polyder(p)  # New command\n",
    "pd"
   ]
  },
  {
   "cell_type": "markdown",
   "metadata": {
    "id": "c0VZ0DwZKnyP"
   },
   "source": [
    "You can use these with `numpy.polyval` to compute the derivative at different points. Note, this is an *analytical* derivative! No approximation necessary.\n",
    "\n"
   ]
  },
  {
   "cell_type": "code",
   "execution_count": 14,
   "metadata": {
    "colab": {
     "base_uri": "https://localhost:8080/"
    },
    "executionInfo": {
     "elapsed": 126,
     "status": "ok",
     "timestamp": 1632832347795,
     "user": {
      "displayName": "John Kitchin",
      "photoUrl": "https://lh3.googleusercontent.com/a/default-user=s64",
      "userId": "14782011281593705406"
     },
     "user_tz": 240
    },
    "id": "pquYtsZlKnyQ",
    "outputId": "35438a47-b6a9-4920-92a4-499585956b50"
   },
   "outputs": [
    {
     "data": {
      "text/plain": [
       "array([-2.        , -1.91836735, -1.83673469, -1.75510204, -1.67346939,\n",
       "       -1.59183673, -1.51020408, -1.42857143, -1.34693878, -1.26530612,\n",
       "       -1.18367347, -1.10204082, -1.02040816, -0.93877551, -0.85714286,\n",
       "       -0.7755102 , -0.69387755, -0.6122449 , -0.53061224, -0.44897959,\n",
       "       -0.36734694, -0.28571429, -0.20408163, -0.12244898, -0.04081633,\n",
       "        0.04081633,  0.12244898,  0.20408163,  0.28571429,  0.36734694,\n",
       "        0.44897959,  0.53061224,  0.6122449 ,  0.69387755,  0.7755102 ,\n",
       "        0.85714286,  0.93877551,  1.02040816,  1.10204082,  1.18367347,\n",
       "        1.26530612,  1.34693878,  1.42857143,  1.51020408,  1.59183673,\n",
       "        1.67346939,  1.75510204,  1.83673469,  1.91836735,  2.        ])"
      ]
     },
     "execution_count": 14,
     "metadata": {},
     "output_type": "execute_result"
    }
   ],
   "source": [
    "np.polyval(pd, np.linspace(-5, -3))"
   ]
  },
  {
   "cell_type": "markdown",
   "metadata": {
    "id": "91-7Mi20KnyW"
   },
   "source": [
    "You can also get the coefficients of the integral of the polynomial. The integration constant is assumed to be 0 by default.\n",
    "\n"
   ]
  },
  {
   "cell_type": "code",
   "execution_count": 15,
   "metadata": {
    "executionInfo": {
     "elapsed": 145,
     "status": "ok",
     "timestamp": 1632832410293,
     "user": {
      "displayName": "John Kitchin",
      "photoUrl": "https://lh3.googleusercontent.com/a/default-user=s64",
      "userId": "14782011281593705406"
     },
     "user_tz": 240
    },
    "id": "753jMWhHZThX"
   },
   "outputs": [
    {
     "data": {
      "text/plain": [
       "\u001b[0;31mSignature:\u001b[0m       \u001b[0mnp\u001b[0m\u001b[0;34m.\u001b[0m\u001b[0mpolyint\u001b[0m\u001b[0;34m(\u001b[0m\u001b[0mp\u001b[0m\u001b[0;34m,\u001b[0m \u001b[0mm\u001b[0m\u001b[0;34m=\u001b[0m\u001b[0;36m1\u001b[0m\u001b[0;34m,\u001b[0m \u001b[0mk\u001b[0m\u001b[0;34m=\u001b[0m\u001b[0;32mNone\u001b[0m\u001b[0;34m)\u001b[0m\u001b[0;34m\u001b[0m\u001b[0;34m\u001b[0m\u001b[0m\n",
       "\u001b[0;31mCall signature:\u001b[0m  \u001b[0mnp\u001b[0m\u001b[0;34m.\u001b[0m\u001b[0mpolyint\u001b[0m\u001b[0;34m(\u001b[0m\u001b[0;34m*\u001b[0m\u001b[0margs\u001b[0m\u001b[0;34m,\u001b[0m \u001b[0;34m**\u001b[0m\u001b[0mkwargs\u001b[0m\u001b[0;34m)\u001b[0m\u001b[0;34m\u001b[0m\u001b[0;34m\u001b[0m\u001b[0m\n",
       "\u001b[0;31mType:\u001b[0m            _ArrayFunctionDispatcher\n",
       "\u001b[0;31mString form:\u001b[0m     <function polyint at 0x7ea0c81113a0>\n",
       "\u001b[0;31mFile:\u001b[0m            /opt/tljh/user/lib/python3.12/site-packages/numpy/lib/_polynomial_impl.py\n",
       "\u001b[0;31mDocstring:\u001b[0m      \n",
       "Return an antiderivative (indefinite integral) of a polynomial.\n",
       "\n",
       ".. note::\n",
       "   This forms part of the old polynomial API. Since version 1.4, the\n",
       "   new polynomial API defined in `numpy.polynomial` is preferred.\n",
       "   A summary of the differences can be found in the\n",
       "   :doc:`transition guide </reference/routines.polynomials>`.\n",
       "\n",
       "The returned order `m` antiderivative `P` of polynomial `p` satisfies\n",
       ":math:`\\frac{d^m}{dx^m}P(x) = p(x)` and is defined up to `m - 1`\n",
       "integration constants `k`. The constants determine the low-order\n",
       "polynomial part\n",
       "\n",
       ".. math:: \\frac{k_{m-1}}{0!} x^0 + \\ldots + \\frac{k_0}{(m-1)!}x^{m-1}\n",
       "\n",
       "of `P` so that :math:`P^{(j)}(0) = k_{m-j-1}`.\n",
       "\n",
       "Parameters\n",
       "----------\n",
       "p : array_like or poly1d\n",
       "    Polynomial to integrate.\n",
       "    A sequence is interpreted as polynomial coefficients, see `poly1d`.\n",
       "m : int, optional\n",
       "    Order of the antiderivative. (Default: 1)\n",
       "k : list of `m` scalars or scalar, optional\n",
       "    Integration constants. They are given in the order of integration:\n",
       "    those corresponding to highest-order terms come first.\n",
       "\n",
       "    If ``None`` (default), all constants are assumed to be zero.\n",
       "    If `m = 1`, a single scalar can be given instead of a list.\n",
       "\n",
       "See Also\n",
       "--------\n",
       "polyder : derivative of a polynomial\n",
       "poly1d.integ : equivalent method\n",
       "\n",
       "Examples\n",
       "--------\n",
       "The defining property of the antiderivative:\n",
       "\n",
       ">>> import numpy as np\n",
       "\n",
       ">>> p = np.poly1d([1,1,1])\n",
       ">>> P = np.polyint(p)\n",
       ">>> P\n",
       " poly1d([ 0.33333333,  0.5       ,  1.        ,  0.        ]) # may vary\n",
       ">>> np.polyder(P) == p\n",
       "True\n",
       "\n",
       "The integration constants default to zero, but can be specified:\n",
       "\n",
       ">>> P = np.polyint(p, 3)\n",
       ">>> P(0)\n",
       "0.0\n",
       ">>> np.polyder(P)(0)\n",
       "0.0\n",
       ">>> np.polyder(P, 2)(0)\n",
       "0.0\n",
       ">>> P = np.polyint(p, 3, k=[6,5,3])\n",
       ">>> P\n",
       "poly1d([ 0.01666667,  0.04166667,  0.16666667,  3. ,  5. ,  3. ]) # may vary\n",
       "\n",
       "Note that 3 = 6 / 2!, and that the constants are given in the order of\n",
       "integrations. Constant of the highest-order polynomial term comes first:\n",
       "\n",
       ">>> np.polyder(P, 2)(0)\n",
       "6.0\n",
       ">>> np.polyder(P, 1)(0)\n",
       "5.0\n",
       ">>> P(0)\n",
       "3.0\n",
       "\u001b[0;31mClass docstring:\u001b[0m\n",
       "Class to wrap functions with checks for __array_function__ overrides.\n",
       "\n",
       "All arguments are required, and can only be passed by position.\n",
       "\n",
       "Parameters\n",
       "----------\n",
       "dispatcher : function or None\n",
       "    The dispatcher function that returns a single sequence-like object\n",
       "    of all arguments relevant.  It must have the same signature (except\n",
       "    the default values) as the actual implementation.\n",
       "    If ``None``, this is a ``like=`` dispatcher and the\n",
       "    ``_ArrayFunctionDispatcher`` must be called with ``like`` as the\n",
       "    first (additional and positional) argument.\n",
       "implementation : function\n",
       "    Function that implements the operation on NumPy arrays without\n",
       "    overrides.  Arguments passed calling the ``_ArrayFunctionDispatcher``\n",
       "    will be forwarded to this (and the ``dispatcher``) as if using\n",
       "    ``*args, **kwargs``.\n",
       "\n",
       "Attributes\n",
       "----------\n",
       "_implementation : function\n",
       "    The original implementation passed in."
      ]
     },
     "metadata": {},
     "output_type": "display_data"
    }
   ],
   "source": [
    "?np.polyint"
   ]
  },
  {
   "cell_type": "code",
   "execution_count": 16,
   "metadata": {
    "colab": {
     "base_uri": "https://localhost:8080/"
    },
    "executionInfo": {
     "elapsed": 290,
     "status": "ok",
     "timestamp": 1632832472487,
     "user": {
      "displayName": "John Kitchin",
      "photoUrl": "https://lh3.googleusercontent.com/a/default-user=s64",
      "userId": "14782011281593705406"
     },
     "user_tz": 240
    },
    "id": "ep_jCuJnKnyX",
    "outputId": "854dae9a-915b-414a-8d6c-46e981645ae5"
   },
   "outputs": [
    {
     "data": {
      "text/plain": [
       "array([ 0.33333333,  4.        , 16.        ,  0.        ])"
      ]
     },
     "execution_count": 16,
     "metadata": {},
     "output_type": "execute_result"
    }
   ],
   "source": [
    "pint = np.polyint(p)  # new command\n",
    "pint"
   ]
  },
  {
   "cell_type": "markdown",
   "metadata": {
    "id": "lTh5MWwlKnyc"
   },
   "source": [
    "You can use this to compute definite integrals, e.g. from x=1 to x=2:\n",
    "\n"
   ]
  },
  {
   "cell_type": "code",
   "execution_count": 17,
   "metadata": {
    "executionInfo": {
     "elapsed": 138,
     "status": "ok",
     "timestamp": 1632832559572,
     "user": {
      "displayName": "John Kitchin",
      "photoUrl": "https://lh3.googleusercontent.com/a/default-user=s64",
      "userId": "14782011281593705406"
     },
     "user_tz": 240
    },
    "id": "mS0vPoSFZ4Qo"
   },
   "outputs": [
    {
     "data": {
      "text/plain": [
       "\u001b[0;31mSignature:\u001b[0m       \u001b[0mnp\u001b[0m\u001b[0;34m.\u001b[0m\u001b[0mpolyval\u001b[0m\u001b[0;34m(\u001b[0m\u001b[0mp\u001b[0m\u001b[0;34m,\u001b[0m \u001b[0mx\u001b[0m\u001b[0;34m)\u001b[0m\u001b[0;34m\u001b[0m\u001b[0;34m\u001b[0m\u001b[0m\n",
       "\u001b[0;31mCall signature:\u001b[0m  \u001b[0mnp\u001b[0m\u001b[0;34m.\u001b[0m\u001b[0mpolyval\u001b[0m\u001b[0;34m(\u001b[0m\u001b[0;34m*\u001b[0m\u001b[0margs\u001b[0m\u001b[0;34m,\u001b[0m \u001b[0;34m**\u001b[0m\u001b[0mkwargs\u001b[0m\u001b[0;34m)\u001b[0m\u001b[0;34m\u001b[0m\u001b[0;34m\u001b[0m\u001b[0m\n",
       "\u001b[0;31mType:\u001b[0m            _ArrayFunctionDispatcher\n",
       "\u001b[0;31mString form:\u001b[0m     <function polyval at 0x7ea0c8111760>\n",
       "\u001b[0;31mFile:\u001b[0m            /opt/tljh/user/lib/python3.12/site-packages/numpy/lib/_polynomial_impl.py\n",
       "\u001b[0;31mDocstring:\u001b[0m      \n",
       "Evaluate a polynomial at specific values.\n",
       "\n",
       ".. note::\n",
       "   This forms part of the old polynomial API. Since version 1.4, the\n",
       "   new polynomial API defined in `numpy.polynomial` is preferred.\n",
       "   A summary of the differences can be found in the\n",
       "   :doc:`transition guide </reference/routines.polynomials>`.\n",
       "\n",
       "If `p` is of length N, this function returns the value::\n",
       "\n",
       "    p[0]*x**(N-1) + p[1]*x**(N-2) + ... + p[N-2]*x + p[N-1]\n",
       "\n",
       "If `x` is a sequence, then ``p(x)`` is returned for each element of ``x``.\n",
       "If `x` is another polynomial then the composite polynomial ``p(x(t))``\n",
       "is returned.\n",
       "\n",
       "Parameters\n",
       "----------\n",
       "p : array_like or poly1d object\n",
       "   1D array of polynomial coefficients (including coefficients equal\n",
       "   to zero) from highest degree to the constant term, or an\n",
       "   instance of poly1d.\n",
       "x : array_like or poly1d object\n",
       "   A number, an array of numbers, or an instance of poly1d, at\n",
       "   which to evaluate `p`.\n",
       "\n",
       "Returns\n",
       "-------\n",
       "values : ndarray or poly1d\n",
       "   If `x` is a poly1d instance, the result is the composition of the two\n",
       "   polynomials, i.e., `x` is \"substituted\" in `p` and the simplified\n",
       "   result is returned. In addition, the type of `x` - array_like or\n",
       "   poly1d - governs the type of the output: `x` array_like => `values`\n",
       "   array_like, `x` a poly1d object => `values` is also.\n",
       "\n",
       "See Also\n",
       "--------\n",
       "poly1d: A polynomial class.\n",
       "\n",
       "Notes\n",
       "-----\n",
       "Horner's scheme [1]_ is used to evaluate the polynomial. Even so,\n",
       "for polynomials of high degree the values may be inaccurate due to\n",
       "rounding errors. Use carefully.\n",
       "\n",
       "If `x` is a subtype of `ndarray` the return value will be of the same type.\n",
       "\n",
       "References\n",
       "----------\n",
       ".. [1] I. N. Bronshtein, K. A. Semendyayev, and K. A. Hirsch (Eng.\n",
       "   trans. Ed.), *Handbook of Mathematics*, New York, Van Nostrand\n",
       "   Reinhold Co., 1985, pg. 720.\n",
       "\n",
       "Examples\n",
       "--------\n",
       ">>> import numpy as np\n",
       ">>> np.polyval([3,0,1], 5)  # 3 * 5**2 + 0 * 5**1 + 1\n",
       "76\n",
       ">>> np.polyval([3,0,1], np.poly1d(5))\n",
       "poly1d([76])\n",
       ">>> np.polyval(np.poly1d([3,0,1]), 5)\n",
       "76\n",
       ">>> np.polyval(np.poly1d([3,0,1]), np.poly1d(5))\n",
       "poly1d([76])\n",
       "\u001b[0;31mClass docstring:\u001b[0m\n",
       "Class to wrap functions with checks for __array_function__ overrides.\n",
       "\n",
       "All arguments are required, and can only be passed by position.\n",
       "\n",
       "Parameters\n",
       "----------\n",
       "dispatcher : function or None\n",
       "    The dispatcher function that returns a single sequence-like object\n",
       "    of all arguments relevant.  It must have the same signature (except\n",
       "    the default values) as the actual implementation.\n",
       "    If ``None``, this is a ``like=`` dispatcher and the\n",
       "    ``_ArrayFunctionDispatcher`` must be called with ``like`` as the\n",
       "    first (additional and positional) argument.\n",
       "implementation : function\n",
       "    Function that implements the operation on NumPy arrays without\n",
       "    overrides.  Arguments passed calling the ``_ArrayFunctionDispatcher``\n",
       "    will be forwarded to this (and the ``dispatcher``) as if using\n",
       "    ``*args, **kwargs``.\n",
       "\n",
       "Attributes\n",
       "----------\n",
       "_implementation : function\n",
       "    The original implementation passed in."
      ]
     },
     "metadata": {},
     "output_type": "display_data"
    }
   ],
   "source": [
    "?np.polyval"
   ]
  },
  {
   "cell_type": "code",
   "execution_count": 18,
   "metadata": {
    "colab": {
     "base_uri": "https://localhost:8080/"
    },
    "executionInfo": {
     "elapsed": 136,
     "status": "ok",
     "timestamp": 1632832508266,
     "user": {
      "displayName": "John Kitchin",
      "photoUrl": "https://lh3.googleusercontent.com/a/default-user=s64",
      "userId": "14782011281593705406"
     },
     "user_tz": 240
    },
    "id": "hoTlG29KKnyd",
    "outputId": "835d9afe-2096-4dca-e74c-e5dd7cdd2e4d"
   },
   "outputs": [
    {
     "data": {
      "text/plain": [
       "np.float64(30.33333333333334)"
      ]
     },
     "execution_count": 18,
     "metadata": {},
     "output_type": "execute_result"
    }
   ],
   "source": [
    "np.polyval(pint, 2) - np.polyval(pint, 1)"
   ]
  },
  {
   "cell_type": "code",
   "execution_count": 19,
   "metadata": {
    "colab": {
     "base_uri": "https://localhost:8080/"
    },
    "executionInfo": {
     "elapsed": 129,
     "status": "ok",
     "timestamp": 1632832527495,
     "user": {
      "displayName": "John Kitchin",
      "photoUrl": "https://lh3.googleusercontent.com/a/default-user=s64",
      "userId": "14782011281593705406"
     },
     "user_tz": 240
    },
    "id": "XB-D3A8L1BqC",
    "outputId": "c0259645-1824-43d6-db2f-0f3c6ba03607"
   },
   "outputs": [
    {
     "data": {
      "text/plain": [
       "(30.333333333333332, 3.367676508029641e-13)"
      ]
     },
     "execution_count": 19,
     "metadata": {},
     "output_type": "execute_result"
    }
   ],
   "source": [
    "from scipy.integrate import quad\n",
    "\n",
    "\n",
    "def integrand(x):\n",
    "    return x**2 + 8 * x + 16\n",
    "\n",
    "\n",
    "quad(integrand, 1, 2)"
   ]
  },
  {
   "cell_type": "code",
   "execution_count": 20,
   "metadata": {
    "colab": {
     "base_uri": "https://localhost:8080/"
    },
    "executionInfo": {
     "elapsed": 112,
     "status": "ok",
     "timestamp": 1632832740183,
     "user": {
      "displayName": "John Kitchin",
      "photoUrl": "https://lh3.googleusercontent.com/a/default-user=s64",
      "userId": "14782011281593705406"
     },
     "user_tz": 240
    },
    "id": "jNpocotaalQD",
    "outputId": "9df6fba3-7300-459e-bfb9-3e5156e9b9d9"
   },
   "outputs": [
    {
     "data": {
      "text/plain": [
       "[1, 8, 16]"
      ]
     },
     "execution_count": 20,
     "metadata": {},
     "output_type": "execute_result"
    }
   ],
   "source": [
    "p"
   ]
  },
  {
   "cell_type": "code",
   "execution_count": 21,
   "metadata": {
    "colab": {
     "base_uri": "https://localhost:8080/"
    },
    "executionInfo": {
     "elapsed": 123,
     "status": "ok",
     "timestamp": 1632832749097,
     "user": {
      "displayName": "John Kitchin",
      "photoUrl": "https://lh3.googleusercontent.com/a/default-user=s64",
      "userId": "14782011281593705406"
     },
     "user_tz": 240
    },
    "id": "_vQcLYfxaUZ-",
    "outputId": "1cab4365-4734-4a60-a09f-8f4933318484"
   },
   "outputs": [
    {
     "data": {
      "text/plain": [
       "np.float64(30.333333333333336)"
      ]
     },
     "execution_count": 21,
     "metadata": {},
     "output_type": "execute_result"
    }
   ],
   "source": [
    "X = np.linspace(1, 2)\n",
    "y = X**2 + 8 * X + 16\n",
    "from scipy.integrate import simpson\n",
    "\n",
    "simpson(y, X)"
   ]
  },
  {
   "cell_type": "markdown",
   "metadata": {
    "id": "nbYSlRTXKnyi"
   },
   "source": [
    "**exercise** Use another method to confirm the result above.\n",
    "\n",
    "Finally, the syntax `np.polyval(pint, 2)` can be a little tedious. You can create a function with `numpy.poly1d` using the array of coefficients. Conveniently, you can use the function in the roots, polyder and polyint commands!\n",
    "\n"
   ]
  },
  {
   "cell_type": "code",
   "execution_count": 22,
   "metadata": {
    "executionInfo": {
     "elapsed": 125,
     "status": "ok",
     "timestamp": 1632832861321,
     "user": {
      "displayName": "John Kitchin",
      "photoUrl": "https://lh3.googleusercontent.com/a/default-user=s64",
      "userId": "14782011281593705406"
     },
     "user_tz": 240
    },
    "id": "yKz2aq6pa_gr"
   },
   "outputs": [
    {
     "data": {
      "text/plain": [
       "\u001b[0;31mInit signature:\u001b[0m \u001b[0mnp\u001b[0m\u001b[0;34m.\u001b[0m\u001b[0mpoly1d\u001b[0m\u001b[0;34m(\u001b[0m\u001b[0mc_or_r\u001b[0m\u001b[0;34m,\u001b[0m \u001b[0mr\u001b[0m\u001b[0;34m=\u001b[0m\u001b[0;32mFalse\u001b[0m\u001b[0;34m,\u001b[0m \u001b[0mvariable\u001b[0m\u001b[0;34m=\u001b[0m\u001b[0;32mNone\u001b[0m\u001b[0;34m)\u001b[0m\u001b[0;34m\u001b[0m\u001b[0;34m\u001b[0m\u001b[0m\n",
       "\u001b[0;31mDocstring:\u001b[0m     \n",
       "A one-dimensional polynomial class.\n",
       "\n",
       ".. note::\n",
       "   This forms part of the old polynomial API. Since version 1.4, the\n",
       "   new polynomial API defined in `numpy.polynomial` is preferred.\n",
       "   A summary of the differences can be found in the\n",
       "   :doc:`transition guide </reference/routines.polynomials>`.\n",
       "\n",
       "A convenience class, used to encapsulate \"natural\" operations on\n",
       "polynomials so that said operations may take on their customary\n",
       "form in code (see Examples).\n",
       "\n",
       "Parameters\n",
       "----------\n",
       "c_or_r : array_like\n",
       "    The polynomial's coefficients, in decreasing powers, or if\n",
       "    the value of the second parameter is True, the polynomial's\n",
       "    roots (values where the polynomial evaluates to 0).  For example,\n",
       "    ``poly1d([1, 2, 3])`` returns an object that represents\n",
       "    :math:`x^2 + 2x + 3`, whereas ``poly1d([1, 2, 3], True)`` returns\n",
       "    one that represents :math:`(x-1)(x-2)(x-3) = x^3 - 6x^2 + 11x -6`.\n",
       "r : bool, optional\n",
       "    If True, `c_or_r` specifies the polynomial's roots; the default\n",
       "    is False.\n",
       "variable : str, optional\n",
       "    Changes the variable used when printing `p` from `x` to `variable`\n",
       "    (see Examples).\n",
       "\n",
       "Examples\n",
       "--------\n",
       "Construct the polynomial :math:`x^2 + 2x + 3`:\n",
       "\n",
       ">>> import numpy as np\n",
       "\n",
       ">>> p = np.poly1d([1, 2, 3])\n",
       ">>> print(np.poly1d(p))\n",
       "   2\n",
       "1 x + 2 x + 3\n",
       "\n",
       "Evaluate the polynomial at :math:`x = 0.5`:\n",
       "\n",
       ">>> p(0.5)\n",
       "4.25\n",
       "\n",
       "Find the roots:\n",
       "\n",
       ">>> p.r\n",
       "array([-1.+1.41421356j, -1.-1.41421356j])\n",
       ">>> p(p.r)\n",
       "array([ -4.44089210e-16+0.j,  -4.44089210e-16+0.j]) # may vary\n",
       "\n",
       "These numbers in the previous line represent (0, 0) to machine precision\n",
       "\n",
       "Show the coefficients:\n",
       "\n",
       ">>> p.c\n",
       "array([1, 2, 3])\n",
       "\n",
       "Display the order (the leading zero-coefficients are removed):\n",
       "\n",
       ">>> p.order\n",
       "2\n",
       "\n",
       "Show the coefficient of the k-th power in the polynomial\n",
       "(which is equivalent to ``p.c[-(i+1)]``):\n",
       "\n",
       ">>> p[1]\n",
       "2\n",
       "\n",
       "Polynomials can be added, subtracted, multiplied, and divided\n",
       "(returns quotient and remainder):\n",
       "\n",
       ">>> p * p\n",
       "poly1d([ 1,  4, 10, 12,  9])\n",
       "\n",
       ">>> (p**3 + 4) / p\n",
       "(poly1d([ 1.,  4., 10., 12.,  9.]), poly1d([4.]))\n",
       "\n",
       "``asarray(p)`` gives the coefficient array, so polynomials can be\n",
       "used in all functions that accept arrays:\n",
       "\n",
       ">>> p**2 # square of polynomial\n",
       "poly1d([ 1,  4, 10, 12,  9])\n",
       "\n",
       ">>> np.square(p) # square of individual coefficients\n",
       "array([1, 4, 9])\n",
       "\n",
       "The variable used in the string representation of `p` can be modified,\n",
       "using the `variable` parameter:\n",
       "\n",
       ">>> p = np.poly1d([1,2,3], variable='z')\n",
       ">>> print(p)\n",
       "   2\n",
       "1 z + 2 z + 3\n",
       "\n",
       "Construct a polynomial from its roots:\n",
       "\n",
       ">>> np.poly1d([1, 2], True)\n",
       "poly1d([ 1., -3.,  2.])\n",
       "\n",
       "This is the same polynomial as obtained by:\n",
       "\n",
       ">>> np.poly1d([1, -1]) * np.poly1d([1, -2])\n",
       "poly1d([ 1, -3,  2])\n",
       "\u001b[0;31mFile:\u001b[0m           /opt/tljh/user/lib/python3.12/site-packages/numpy/__init__.py\n",
       "\u001b[0;31mType:\u001b[0m           type\n",
       "\u001b[0;31mSubclasses:\u001b[0m     orthopoly1d"
      ]
     },
     "metadata": {},
     "output_type": "display_data"
    }
   ],
   "source": [
    "?np.poly1d"
   ]
  },
  {
   "cell_type": "code",
   "execution_count": 23,
   "metadata": {
    "colab": {
     "base_uri": "https://localhost:8080/"
    },
    "executionInfo": {
     "elapsed": 127,
     "status": "ok",
     "timestamp": 1632832898916,
     "user": {
      "displayName": "John Kitchin",
      "photoUrl": "https://lh3.googleusercontent.com/a/default-user=s64",
      "userId": "14782011281593705406"
     },
     "user_tz": 240
    },
    "id": "BbQUtaQKKnyi",
    "outputId": "65a4c7c9-5bfd-42da-bbfc-7b2145e11445"
   },
   "outputs": [
    {
     "data": {
      "text/plain": [
       "np.float64(30.33333333333334)"
      ]
     },
     "execution_count": 23,
     "metadata": {},
     "output_type": "execute_result"
    }
   ],
   "source": [
    "p = np.poly1d(pint)\n",
    "p(2) - p(1)"
   ]
  },
  {
   "cell_type": "code",
   "execution_count": 24,
   "metadata": {
    "colab": {
     "base_uri": "https://localhost:8080/"
    },
    "executionInfo": {
     "elapsed": 131,
     "status": "ok",
     "timestamp": 1632832930138,
     "user": {
      "displayName": "John Kitchin",
      "photoUrl": "https://lh3.googleusercontent.com/a/default-user=s64",
      "userId": "14782011281593705406"
     },
     "user_tz": 240
    },
    "id": "2o9VmvTP1ppM",
    "outputId": "20d73d86-0080-4a42-a7a3-e7293018b36d"
   },
   "outputs": [
    {
     "data": {
      "text/plain": [
       "poly1d([ 0.33333333,  4.        , 16.        ,  0.        ])"
      ]
     },
     "execution_count": 24,
     "metadata": {},
     "output_type": "execute_result"
    }
   ],
   "source": [
    "p"
   ]
  },
  {
   "cell_type": "code",
   "execution_count": 25,
   "metadata": {
    "colab": {
     "base_uri": "https://localhost:8080/"
    },
    "executionInfo": {
     "elapsed": 126,
     "status": "ok",
     "timestamp": 1632832940184,
     "user": {
      "displayName": "John Kitchin",
      "photoUrl": "https://lh3.googleusercontent.com/a/default-user=s64",
      "userId": "14782011281593705406"
     },
     "user_tz": 240
    },
    "id": "wv48j_UwKnyo",
    "outputId": "cc732ace-7e66-4e16-aa04-e577dddb62b0"
   },
   "outputs": [
    {
     "data": {
      "text/plain": [
       "array([-6.+3.46410162j, -6.-3.46410162j,  0.+0.j        ])"
      ]
     },
     "execution_count": 25,
     "metadata": {},
     "output_type": "execute_result"
    }
   ],
   "source": [
    "np.roots(p)"
   ]
  },
  {
   "cell_type": "code",
   "execution_count": 26,
   "metadata": {
    "executionInfo": {
     "elapsed": 128,
     "status": "ok",
     "timestamp": 1632832990425,
     "user": {
      "displayName": "John Kitchin",
      "photoUrl": "https://lh3.googleusercontent.com/a/default-user=s64",
      "userId": "14782011281593705406"
     },
     "user_tz": 240
    },
    "id": "_hoiK0P1biNp"
   },
   "outputs": [
    {
     "data": {
      "text/plain": [
       "\u001b[0;31mSignature:\u001b[0m   \u001b[0mp\u001b[0m\u001b[0;34m(\u001b[0m\u001b[0mval\u001b[0m\u001b[0;34m)\u001b[0m\u001b[0;34m\u001b[0m\u001b[0;34m\u001b[0m\u001b[0m\n",
       "\u001b[0;31mType:\u001b[0m        poly1d\n",
       "\u001b[0;31mString form:\u001b[0m\n",
       "        3     2\n",
       "0.3333 x + 4 x + 16 x\n",
       "\u001b[0;31mLength:\u001b[0m      3\n",
       "\u001b[0;31mFile:\u001b[0m        /opt/tljh/user/lib/python3.12/site-packages/numpy/__init__.py\n",
       "\u001b[0;31mDocstring:\u001b[0m  \n",
       "A one-dimensional polynomial class.\n",
       "\n",
       ".. note::\n",
       "   This forms part of the old polynomial API. Since version 1.4, the\n",
       "   new polynomial API defined in `numpy.polynomial` is preferred.\n",
       "   A summary of the differences can be found in the\n",
       "   :doc:`transition guide </reference/routines.polynomials>`.\n",
       "\n",
       "A convenience class, used to encapsulate \"natural\" operations on\n",
       "polynomials so that said operations may take on their customary\n",
       "form in code (see Examples).\n",
       "\n",
       "Parameters\n",
       "----------\n",
       "c_or_r : array_like\n",
       "    The polynomial's coefficients, in decreasing powers, or if\n",
       "    the value of the second parameter is True, the polynomial's\n",
       "    roots (values where the polynomial evaluates to 0).  For example,\n",
       "    ``poly1d([1, 2, 3])`` returns an object that represents\n",
       "    :math:`x^2 + 2x + 3`, whereas ``poly1d([1, 2, 3], True)`` returns\n",
       "    one that represents :math:`(x-1)(x-2)(x-3) = x^3 - 6x^2 + 11x -6`.\n",
       "r : bool, optional\n",
       "    If True, `c_or_r` specifies the polynomial's roots; the default\n",
       "    is False.\n",
       "variable : str, optional\n",
       "    Changes the variable used when printing `p` from `x` to `variable`\n",
       "    (see Examples).\n",
       "\n",
       "Examples\n",
       "--------\n",
       "Construct the polynomial :math:`x^2 + 2x + 3`:\n",
       "\n",
       ">>> import numpy as np\n",
       "\n",
       ">>> p = np.poly1d([1, 2, 3])\n",
       ">>> print(np.poly1d(p))\n",
       "   2\n",
       "1 x + 2 x + 3\n",
       "\n",
       "Evaluate the polynomial at :math:`x = 0.5`:\n",
       "\n",
       ">>> p(0.5)\n",
       "4.25\n",
       "\n",
       "Find the roots:\n",
       "\n",
       ">>> p.r\n",
       "array([-1.+1.41421356j, -1.-1.41421356j])\n",
       ">>> p(p.r)\n",
       "array([ -4.44089210e-16+0.j,  -4.44089210e-16+0.j]) # may vary\n",
       "\n",
       "These numbers in the previous line represent (0, 0) to machine precision\n",
       "\n",
       "Show the coefficients:\n",
       "\n",
       ">>> p.c\n",
       "array([1, 2, 3])\n",
       "\n",
       "Display the order (the leading zero-coefficients are removed):\n",
       "\n",
       ">>> p.order\n",
       "2\n",
       "\n",
       "Show the coefficient of the k-th power in the polynomial\n",
       "(which is equivalent to ``p.c[-(i+1)]``):\n",
       "\n",
       ">>> p[1]\n",
       "2\n",
       "\n",
       "Polynomials can be added, subtracted, multiplied, and divided\n",
       "(returns quotient and remainder):\n",
       "\n",
       ">>> p * p\n",
       "poly1d([ 1,  4, 10, 12,  9])\n",
       "\n",
       ">>> (p**3 + 4) / p\n",
       "(poly1d([ 1.,  4., 10., 12.,  9.]), poly1d([4.]))\n",
       "\n",
       "``asarray(p)`` gives the coefficient array, so polynomials can be\n",
       "used in all functions that accept arrays:\n",
       "\n",
       ">>> p**2 # square of polynomial\n",
       "poly1d([ 1,  4, 10, 12,  9])\n",
       "\n",
       ">>> np.square(p) # square of individual coefficients\n",
       "array([1, 4, 9])\n",
       "\n",
       "The variable used in the string representation of `p` can be modified,\n",
       "using the `variable` parameter:\n",
       "\n",
       ">>> p = np.poly1d([1,2,3], variable='z')\n",
       ">>> print(p)\n",
       "   2\n",
       "1 z + 2 z + 3\n",
       "\n",
       "Construct a polynomial from its roots:\n",
       "\n",
       ">>> np.poly1d([1, 2], True)\n",
       "poly1d([ 1., -3.,  2.])\n",
       "\n",
       "This is the same polynomial as obtained by:\n",
       "\n",
       ">>> np.poly1d([1, -1]) * np.poly1d([1, -2])\n",
       "poly1d([ 1, -3,  2])"
      ]
     },
     "metadata": {},
     "output_type": "display_data"
    }
   ],
   "source": [
    "?p"
   ]
  },
  {
   "cell_type": "code",
   "execution_count": 27,
   "metadata": {
    "colab": {
     "base_uri": "https://localhost:8080/"
    },
    "executionInfo": {
     "elapsed": 156,
     "status": "ok",
     "timestamp": 1632832944891,
     "user": {
      "displayName": "John Kitchin",
      "photoUrl": "https://lh3.googleusercontent.com/a/default-user=s64",
      "userId": "14782011281593705406"
     },
     "user_tz": 240
    },
    "id": "9gAwvId310Ey",
    "outputId": "f73cb88b-27d8-4984-f502-b104a8f40be6"
   },
   "outputs": [
    {
     "name": "stdout",
     "output_type": "stream",
     "text": [
      "        3     2\n",
      "0.3333 x + 4 x + 16 x\n"
     ]
    }
   ],
   "source": [
    "print(p)"
   ]
  },
  {
   "cell_type": "code",
   "execution_count": 28,
   "metadata": {
    "colab": {
     "base_uri": "https://localhost:8080/"
    },
    "executionInfo": {
     "elapsed": 128,
     "status": "ok",
     "timestamp": 1632832974295,
     "user": {
      "displayName": "John Kitchin",
      "photoUrl": "https://lh3.googleusercontent.com/a/default-user=s64",
      "userId": "14782011281593705406"
     },
     "user_tz": 240
    },
    "id": "G3e5GqCb2oz_",
    "outputId": "b136838a-9308-4354-8c92-bc54e7aa4ab9"
   },
   "outputs": [
    {
     "data": {
      "text/plain": [
       "array([-6.+3.46410162j, -6.-3.46410162j,  0.+0.j        ])"
      ]
     },
     "execution_count": 28,
     "metadata": {},
     "output_type": "execute_result"
    }
   ],
   "source": [
    "p.r  # shorthand for roots"
   ]
  },
  {
   "cell_type": "code",
   "execution_count": 29,
   "metadata": {
    "colab": {
     "base_uri": "https://localhost:8080/"
    },
    "executionInfo": {
     "elapsed": 163,
     "status": "ok",
     "timestamp": 1632833482849,
     "user": {
      "displayName": "John Kitchin",
      "photoUrl": "https://lh3.googleusercontent.com/a/default-user=s64",
      "userId": "14782011281593705406"
     },
     "user_tz": 240
    },
    "id": "W2Tv96o8cOZ8",
    "outputId": "c5c111d4-9f13-44ee-c651-0317e5c4c6bb"
   },
   "outputs": [
    {
     "data": {
      "text/plain": [
       "[np.float64(0.0)]"
      ]
     },
     "execution_count": 29,
     "metadata": {},
     "output_type": "execute_result"
    }
   ],
   "source": [
    "[\n",
    "    root.real for root in p.r if np.abs(root.imag) <= 1e-12\n",
    "]  # extract out only the real part of the real roots."
   ]
  },
  {
   "cell_type": "code",
   "execution_count": 30,
   "metadata": {
    "colab": {
     "base_uri": "https://localhost:8080/"
    },
    "executionInfo": {
     "elapsed": 127,
     "status": "ok",
     "timestamp": 1632833109318,
     "user": {
      "displayName": "John Kitchin",
      "photoUrl": "https://lh3.googleusercontent.com/a/default-user=s64",
      "userId": "14782011281593705406"
     },
     "user_tz": 240
    },
    "id": "KFkYA1FXb0EO",
    "outputId": "949f7efd-f0de-41aa-a0e7-b70e2f61fed0"
   },
   "outputs": [
    {
     "name": "stdout",
     "output_type": "stream",
     "text": [
      "[0.+0.j 0.-0.j 0.+0.j]\n"
     ]
    }
   ],
   "source": [
    "with np.printoptions(suppress=True):  # show very small numbers as 0\n",
    "    print(p(p.r))"
   ]
  },
  {
   "cell_type": "code",
   "execution_count": 31,
   "metadata": {
    "colab": {
     "base_uri": "https://localhost:8080/"
    },
    "executionInfo": {
     "elapsed": 129,
     "status": "ok",
     "timestamp": 1632833010649,
     "user": {
      "displayName": "John Kitchin",
      "photoUrl": "https://lh3.googleusercontent.com/a/default-user=s64",
      "userId": "14782011281593705406"
     },
     "user_tz": 240
    },
    "id": "YrKKisTX2r9E",
    "outputId": "1951f088-91ee-421e-c29a-2e8cc5f5195f"
   },
   "outputs": [
    {
     "data": {
      "text/plain": [
       "array([ 0.33333333,  4.        , 16.        ,  0.        ])"
      ]
     },
     "execution_count": 31,
     "metadata": {},
     "output_type": "execute_result"
    }
   ],
   "source": [
    "p.coefficients"
   ]
  },
  {
   "cell_type": "code",
   "execution_count": 32,
   "metadata": {
    "colab": {
     "base_uri": "https://localhost:8080/"
    },
    "executionInfo": {
     "elapsed": 137,
     "status": "ok",
     "timestamp": 1632833013222,
     "user": {
      "displayName": "John Kitchin",
      "photoUrl": "https://lh3.googleusercontent.com/a/default-user=s64",
      "userId": "14782011281593705406"
     },
     "user_tz": 240
    },
    "id": "60o94pBH2t6z",
    "outputId": "c1c6ea73-31f9-45ef-9a75-4db93db42718"
   },
   "outputs": [
    {
     "data": {
      "text/plain": [
       "3"
      ]
     },
     "execution_count": 32,
     "metadata": {},
     "output_type": "execute_result"
    }
   ],
   "source": [
    "p.order"
   ]
  },
  {
   "cell_type": "markdown",
   "metadata": {
    "id": "LqWwQfcZKnyt"
   },
   "source": [
    "# Systems of nonlinear equations\n",
    "\n"
   ]
  },
  {
   "cell_type": "markdown",
   "metadata": {},
   "source": [
    "```{note}\n",
    "There is also `scipy.optimize.fsolve` which can also be used to solve nonlinear equations. This is an older function, and `root` is preferred for new code.\n",
    "```"
   ]
  },
  {
   "cell_type": "markdown",
   "metadata": {
    "id": "kw3u63EsKnyu"
   },
   "source": [
    "Analogously to systems of ordinary differential equations, with systems of nonlinear equations we define functions that will return a zero for each equation in the system. Then we have to pass an initial guess for each variable to root, and it will return an array of values, one for each variable.\n",
    "\n",
    "It is considerably more difficult to visualize systems of nonlinear equations. With two equations and two unknowns it is sometimes easy to plot solutions, but not always.\n",
    "\n",
    "\\begin{align}\n",
    "y &=& x^2 \\\\\n",
    "y &=& 8 - x^2\n",
    "\\end{align}\n",
    "\n",
    "One approach to visualizing this is to plot the two curves.\n",
    "\n"
   ]
  },
  {
   "cell_type": "code",
   "execution_count": 33,
   "metadata": {
    "colab": {
     "base_uri": "https://localhost:8080/",
     "height": 279
    },
    "executionInfo": {
     "elapsed": 287,
     "status": "ok",
     "timestamp": 1632833895700,
     "user": {
      "displayName": "John Kitchin",
      "photoUrl": "https://lh3.googleusercontent.com/a/default-user=s64",
      "userId": "14782011281593705406"
     },
     "user_tz": 240
    },
    "id": "vLCCCT60Knyv",
    "outputId": "98cc620d-79db-46ee-c844-b2cf02c88d7e"
   },
   "outputs": [
    {
     "data": {
      "image/png": "[encoded data removed]",
      "text/plain": [
       "<Figure size 640x480 with 1 Axes>"
      ]
     },
     "metadata": {},
     "output_type": "display_data"
    }
   ],
   "source": [
    "import numpy as np\n",
    "import matplotlib.pyplot as plt\n",
    "\n",
    "x = np.linspace(0, 4)\n",
    "\n",
    "y1 = x**2\n",
    "y2 = 8 - x**2\n",
    "\n",
    "plt.plot(x, y1, x, y2)\n",
    "plt.xlabel(\"x\")\n",
    "plt.ylabel(\"y\")\n",
    "plt.legend([\"y1\", \"y2\"]);"
   ]
  },
  {
   "cell_type": "markdown",
   "metadata": {
    "id": "-CbtqSrFKny1"
   },
   "source": [
    "You can see that on this domain, there is one place where the two curves intersect near the point (2, 5), which is a solution point. At this point there is one (x, y) pair that is a solution to *both* equations."
   ]
  },
  {
   "cell_type": "code",
   "execution_count": 34,
   "metadata": {
    "colab": {
     "base_uri": "https://localhost:8080/"
    },
    "executionInfo": {
     "elapsed": 121,
     "status": "ok",
     "timestamp": 1632834101027,
     "user": {
      "displayName": "John Kitchin",
      "photoUrl": "https://lh3.googleusercontent.com/a/default-user=s64",
      "userId": "14782011281593705406"
     },
     "user_tz": 240
    },
    "id": "fAkZzN7eKny3",
    "outputId": "4d97196e-a43f-46fb-c841-1e56f3cce93c"
   },
   "outputs": [
    {
     "data": {
      "text/plain": [
       "array([-0.4, -0.4])"
      ]
     },
     "execution_count": 34,
     "metadata": {},
     "output_type": "execute_result"
    }
   ],
   "source": [
    "from scipy.optimize import root\n",
    "\n",
    "\n",
    "def objective(X):\n",
    "    x, y = X\n",
    "    z1 = y - x**2\n",
    "    z2 = y - 8 + x**2\n",
    "    return np.array([z1, z2])\n",
    "\n",
    "\n",
    "guess = [2, 3.6]\n",
    "objective(guess)"
   ]
  },
  {
   "cell_type": "code",
   "execution_count": 35,
   "metadata": {
    "colab": {
     "base_uri": "https://localhost:8080/"
    },
    "executionInfo": {
     "elapsed": 117,
     "status": "ok",
     "timestamp": 1632834172519,
     "user": {
      "displayName": "John Kitchin",
      "photoUrl": "https://lh3.googleusercontent.com/a/default-user=s64",
      "userId": "14782011281593705406"
     },
     "user_tz": 240
    },
    "id": "LId1nJTVfnZ0",
    "outputId": "eec36cec-8af4-4ddf-fd97-9afe078b726c"
   },
   "outputs": [
    {
     "data": {
      "text/plain": [
       " message: The solution converged.\n",
       " success: True\n",
       "  status: 1\n",
       "     fun: [ 0.000e+00  0.000e+00]\n",
       "       x: [ 2.000e+00  4.000e+00]\n",
       "  method: hybr\n",
       "    nfev: 7\n",
       "    fjac: [[-7.071e-01  7.071e-01]\n",
       "           [-7.071e-01 -7.071e-01]]\n",
       "       r: [ 5.657e+00  5.551e-16 -1.414e+00]\n",
       "     qtf: [-2.341e-09  1.405e-09]"
      ]
     },
     "execution_count": 35,
     "metadata": {},
     "output_type": "execute_result"
    }
   ],
   "source": [
    "ans = root(objective, guess)  \n",
    "\n",
    "ans"
   ]
  },
  {
   "cell_type": "code",
   "execution_count": 36,
   "metadata": {
    "colab": {
     "base_uri": "https://localhost:8080/"
    },
    "executionInfo": {
     "elapsed": 115,
     "status": "ok",
     "timestamp": 1632834190468,
     "user": {
      "displayName": "John Kitchin",
      "photoUrl": "https://lh3.googleusercontent.com/a/default-user=s64",
      "userId": "14782011281593705406"
     },
     "user_tz": 240
    },
    "id": "6E-HOvkX6TXS",
    "outputId": "4188b768-c9da-4bd2-89c7-82a09637c528"
   },
   "outputs": [],
   "source": [
    "sol = root(objective, guess)  # we unpack the two parts of the solution into x and y\n",
    "x, y = sol.x"
   ]
  },
  {
   "cell_type": "code",
   "execution_count": 37,
   "metadata": {
    "colab": {
     "base_uri": "https://localhost:8080/"
    },
    "executionInfo": {
     "elapsed": 114,
     "status": "ok",
     "timestamp": 1632834228666,
     "user": {
      "displayName": "John Kitchin",
      "photoUrl": "https://lh3.googleusercontent.com/a/default-user=s64",
      "userId": "14782011281593705406"
     },
     "user_tz": 240
    },
    "id": "B9Dc27Q_6bpG",
    "outputId": "5b85cd3a-fafb-4167-9174-5f4f51303cda"
   },
   "outputs": [
    {
     "data": {
      "text/plain": [
       "[array([0., 0.]), array([0., 0.]), array([0., 0.])]"
      ]
     },
     "execution_count": 37,
     "metadata": {},
     "output_type": "execute_result"
    }
   ],
   "source": [
    "[\n",
    "    objective((x, y)),  # tuple\n",
    "    objective([x, y]),  # list\n",
    "    # use an array\n",
    "    objective(np.array([x, y])),\n",
    "]  # three equivalent ways to call the objective function"
   ]
  },
  {
   "cell_type": "code",
   "execution_count": 38,
   "metadata": {
    "colab": {
     "base_uri": "https://localhost:8080/"
    },
    "executionInfo": {
     "elapsed": 128,
     "status": "ok",
     "timestamp": 1632834244657,
     "user": {
      "displayName": "John Kitchin",
      "photoUrl": "https://lh3.googleusercontent.com/a/default-user=s64",
      "userId": "14782011281593705406"
     },
     "user_tz": 240
    },
    "id": "txZo9xIw56Sd",
    "outputId": "bfa72e9b-7644-468e-e83c-671e9f59c7fd"
   },
   "outputs": [
    {
     "data": {
      "text/plain": [
       "array([0., 0.])"
      ]
     },
     "execution_count": 38,
     "metadata": {},
     "output_type": "execute_result"
    }
   ],
   "source": [
    "objective(ans.x)"
   ]
  },
  {
   "cell_type": "code",
   "execution_count": 39,
   "metadata": {
    "colab": {
     "base_uri": "https://localhost:8080/"
    },
    "executionInfo": {
     "elapsed": 154,
     "status": "ok",
     "timestamp": 1632834246683,
     "user": {
      "displayName": "John Kitchin",
      "photoUrl": "https://lh3.googleusercontent.com/a/default-user=s64",
      "userId": "14782011281593705406"
     },
     "user_tz": 240
    },
    "id": "ZIqUd-Bk5_VA",
    "outputId": "472a7211-fbd0-4849-8f3e-2e0e4ae06c5b"
   },
   "outputs": [
    {
     "data": {
      "text/plain": [
       "array([-0.4, -0.4])"
      ]
     },
     "execution_count": 39,
     "metadata": {},
     "output_type": "execute_result"
    }
   ],
   "source": [
    "objective(guess)"
   ]
  },
  {
   "cell_type": "markdown",
   "metadata": {
    "id": "zagtBjxv7cqx"
   },
   "source": [
    "# A harder example"
   ]
  },
  {
   "cell_type": "markdown",
   "metadata": {
    "id": "j9dpR74AKny9"
   },
   "source": [
    "It is not always easy to solve for one variable in terms of the other though. In that case, we can resort to an alternate graphical approach where we evaluate the objective function over a range of the variables, and look for regions where they overlap.\n",
    "\n",
    "Consider the solution to these equations (adapted from [https://www.mathworks.com/help/optim/ug/fsolve.html](https://www.mathworks.com/help/optim/ug/fsolve.html)):\n",
    "\n",
    "$e^{-e^{-(x_1 + x_2)}} = x_2 (1 + x_1^2)$\n",
    "\n",
    "and\n",
    "\n",
    "$x_1 \\cos(x_2) + x_2 \\sin(x_1) = 1/2$\n",
    "\n",
    "It is not possible to solve either one for one variable in terms of the other. So instead, we will compute the objective function for a range of $x_1, x_2$ values, and then use a contour plot of each equation to see where there might be a solution.\n",
    "\n",
    "The key to this visualization is where we draw the contours. A good choice is to highlight only the part of the solutions that bracket zero. Then we can see where they intersect, because there is probably a solution in that neighborhood.\n",
    "\n"
   ]
  },
  {
   "cell_type": "code",
   "execution_count": 40,
   "metadata": {
    "colab": {
     "base_uri": "https://localhost:8080/",
     "height": 503
    },
    "executionInfo": {
     "elapsed": 1277,
     "status": "ok",
     "timestamp": 1632835949106,
     "user": {
      "displayName": "John Kitchin",
      "photoUrl": "https://lh3.googleusercontent.com/a/default-user=s64",
      "userId": "14782011281593705406"
     },
     "user_tz": 240
    },
    "id": "wsjWUCaxKny-",
    "outputId": "f6617fa4-eb34-4d75-947e-2efdbf859ae0"
   },
   "outputs": [
    {
     "data": {
      "image/png": "[encoded data removed]",
      "text/plain": [
       "<Figure size 1200x800 with 2 Axes>"
      ]
     },
     "metadata": {},
     "output_type": "display_data"
    }
   ],
   "source": [
    "import numpy as np\n",
    "\n",
    "\n",
    "def objective(X):\n",
    "    x1, x2 = X\n",
    "    z1 = np.exp(-np.exp(-(x1 + x2))) - x2 * (1 + x1**2)\n",
    "    z2 = x1 * np.cos(x2) + x2 * np.sin(x1) - 0.5\n",
    "    return np.array([z1, z2])\n",
    "\n",
    "\n",
    "x1 = np.linspace(-10, 20)\n",
    "x2 = np.linspace(-10, 20)\n",
    "\n",
    "X1, X2 = np.meshgrid(x1, x2)\n",
    "\n",
    "Z1, Z2 = objective([X1, X2])\n",
    "plt.figure(figsize=(12, 8))\n",
    "plt.contour(X1, X2, Z1, levels=np.linspace(-0.01, 0.01, 100))\n",
    "plt.contour(X1, X2, Z2, levels=np.linspace(-0.01, 0.01, 100), cmap=\"jet\")\n",
    "plt.xlabel(\"$x_1$\")\n",
    "plt.ylabel(\"$x_2$\")\n",
    "plt.colorbar();"
   ]
  },
  {
   "cell_type": "code",
   "execution_count": 41,
   "metadata": {
    "colab": {
     "base_uri": "https://localhost:8080/"
    },
    "executionInfo": {
     "elapsed": 143,
     "status": "ok",
     "timestamp": 1632834668984,
     "user": {
      "displayName": "John Kitchin",
      "photoUrl": "https://lh3.googleusercontent.com/a/default-user=s64",
      "userId": "14782011281593705406"
     },
     "user_tz": 240
    },
    "id": "zfZdGrfR91qn",
    "outputId": "160f52ca-1aa5-4e30-ff29-1478aa3e5c26"
   },
   "outputs": [
    {
     "data": {
      "text/plain": [
       "array([-0.00379937,  0.06378525])"
      ]
     },
     "execution_count": 41,
     "metadata": {},
     "output_type": "execute_result"
    }
   ],
   "source": [
    "objective([0.4, 0.6])  # shows that the objective function is approximately zero"
   ]
  },
  {
   "cell_type": "markdown",
   "metadata": {
    "id": "gDoTcTXSKnzF"
   },
   "source": [
    "There is an intersection near $x_1=0.4$, and $x_2 = 0.6$. We can use that as an initial guess."
   ]
  },
  {
   "cell_type": "code",
   "execution_count": 42,
   "metadata": {
    "colab": {
     "base_uri": "https://localhost:8080/"
    },
    "executionInfo": {
     "elapsed": 146,
     "status": "ok",
     "timestamp": 1632835784450,
     "user": {
      "displayName": "John Kitchin",
      "photoUrl": "https://lh3.googleusercontent.com/a/default-user=s64",
      "userId": "14782011281593705406"
     },
     "user_tz": 240
    },
    "id": "GHfCZxyFKnzG",
    "outputId": "1e5058f1-31c5-4dbe-c422-ae2fc6e9e17f"
   },
   "outputs": [
    {
     "data": {
      "text/plain": [
       "( message: The solution converged.\n",
       "  success: True\n",
       "   status: 1\n",
       "      fun: [ 1.090e-13 -2.670e-14]\n",
       "        x: [ 3.532e-01  6.061e-01]\n",
       "   method: hybr\n",
       "     nfev: 23\n",
       "     fjac: [[-1.114e-01  9.938e-01]\n",
       "            [-9.938e-01 -1.114e-01]]\n",
       "        r: [ 1.396e+00  2.402e-01  8.425e-01]\n",
       "      qtf: [ 3.050e-10  8.300e-10],\n",
       " array([ 1.09023901e-13, -2.67008637e-14]))"
      ]
     },
     "execution_count": 42,
     "metadata": {},
     "output_type": "execute_result"
    }
   ],
   "source": [
    "from scipy.optimize import root\n",
    "\n",
    "ans = root(objective, [2.5, 2.5])  \n",
    "ans, objective(ans.x)"
   ]
  },
  {
   "cell_type": "code",
   "execution_count": 43,
   "metadata": {
    "colab": {
     "base_uri": "https://localhost:8080/",
     "height": 285
    },
    "executionInfo": {
     "elapsed": 822,
     "status": "ok",
     "timestamp": 1632835871583,
     "user": {
      "displayName": "John Kitchin",
      "photoUrl": "https://lh3.googleusercontent.com/a/default-user=s64",
      "userId": "14782011281593705406"
     },
     "user_tz": 240
    },
    "id": "o1bii5D6-nZ0",
    "outputId": "2f1eea17-3487-4343-a8af-284e24074979"
   },
   "outputs": [
    {
     "data": {
      "image/png": "[encoded data removed]",
      "text/plain": [
       "<Figure size 640x480 with 2 Axes>"
      ]
     },
     "metadata": {},
     "output_type": "display_data"
    }
   ],
   "source": [
    "x1 = np.linspace(0, 1)\n",
    "x2 = np.linspace(0, 1)\n",
    "\n",
    "X1, X2 = np.meshgrid(x1, x2)\n",
    "Z1, Z2 = objective([X1, X2])\n",
    "plt.contour(X1, X2, Z1, levels=np.linspace(-0.1, 0.1, 100), cmap=\"seismic\")\n",
    "plt.contour(\n",
    "    X1, X2, Z2, levels=np.linspace(-0.1, 0.1, 100), cmap=\"seismic\", alpha=0.2\n",
    ")  # set a colormap\n",
    "plt.plot(*ans.x, \"ro\", ms=20)\n",
    "plt.plot(*ans.x, \"bs\", ms=2)\n",
    "plt.xlabel(\"$x_1$\")\n",
    "plt.ylabel(\"$x_2$\")\n",
    "plt.colorbar();"
   ]
  },
  {
   "cell_type": "markdown",
   "metadata": {
    "id": "feZTc13zKnzN"
   },
   "source": [
    "This shows the solution, and that the objective is practically equal to zero at that point.\n",
    "\n",
    "You can see that trying to do this in more than 2 dimensions can quickly get difficult to visualize!\n",
    "\n"
   ]
  },
  {
   "cell_type": "code",
   "execution_count": 44,
   "metadata": {
    "colab": {
     "base_uri": "https://localhost:8080/"
    },
    "executionInfo": {
     "elapsed": 638,
     "status": "ok",
     "timestamp": 1632835147006,
     "user": {
      "displayName": "John Kitchin",
      "photoUrl": "https://lh3.googleusercontent.com/a/default-user=s64",
      "userId": "14782011281593705406"
     },
     "user_tz": 240
    },
    "id": "XtMBLxQ0-eFB",
    "outputId": "aabcc55f-9fd8-4ad9-eaeb-22a00f6ed031"
   },
   "outputs": [
    {
     "data": {
      "text/plain": [
       "(array([0.35324662, 0.60608174]), array([6.13078510e-12, 1.45204375e-11]))"
      ]
     },
     "execution_count": 44,
     "metadata": {},
     "output_type": "execute_result"
    }
   ],
   "source": [
    "# show that we only get one solution by brute force iteration over all the grid points\n",
    "I, J = X1.shape\n",
    "solns = []\n",
    "for i in range(I):\n",
    "    for j in range(J):\n",
    "        x1, x2 = X1[i, j], X2[i, j]\n",
    "        ans = root(objective, [x1, x2])\n",
    "        solns += [ans.x]\n",
    "\n",
    "solns = np.array(solns)\n",
    "\n",
    "(np.mean(solns, axis=0), np.std(solns, axis=0))"
   ]
  },
  {
   "cell_type": "code",
   "execution_count": 45,
   "metadata": {
    "colab": {
     "base_uri": "https://localhost:8080/"
    },
    "executionInfo": {
     "elapsed": 114,
     "status": "ok",
     "timestamp": 1632835140681,
     "user": {
      "displayName": "John Kitchin",
      "photoUrl": "https://lh3.googleusercontent.com/a/default-user=s64",
      "userId": "14782011281593705406"
     },
     "user_tz": 240
    },
    "id": "CVV54Fogjub3",
    "outputId": "f16266b1-3aae-4972-8bb3-bc7bb0b2eed3"
   },
   "outputs": [
    {
     "data": {
      "text/plain": [
       "(2500, 2)"
      ]
     },
     "execution_count": 45,
     "metadata": {},
     "output_type": "execute_result"
    }
   ],
   "source": [
    "solns.shape"
   ]
  },
  {
   "cell_type": "code",
   "execution_count": 46,
   "metadata": {
    "colab": {
     "base_uri": "https://localhost:8080/"
    },
    "executionInfo": {
     "elapsed": 130,
     "status": "ok",
     "timestamp": 1632835185395,
     "user": {
      "displayName": "John Kitchin",
      "photoUrl": "https://lh3.googleusercontent.com/a/default-user=s64",
      "userId": "14782011281593705406"
     },
     "user_tz": 240
    },
    "id": "OQpfMUpgAXba",
    "outputId": "d215759c-5dbb-4b19-cd8e-1ed8be79e8e0"
   },
   "outputs": [
    {
     "data": {
      "text/plain": [
       "1455191522.8366852"
      ]
     },
     "execution_count": 46,
     "metadata": {},
     "output_type": "execute_result"
    }
   ],
   "source": [
    "50**10 * 16 / 1024 / 1024 / 1024  # Estimate of memory required to store 50**10 floats in an array"
   ]
  },
  {
   "cell_type": "markdown",
   "metadata": {
    "id": "4Qu4cjtUKnzO"
   },
   "source": [
    "# Summary\n",
    "\n"
   ]
  },
  {
   "cell_type": "markdown",
   "metadata": {
    "id": "nCNdz7FMKnzP"
   },
   "source": [
    "-   We learned about a special class of nonlinear functions that are polynomials, and a series of useful functions to manipulate them.\n",
    "\n",
    "-   We learned that you can use root to find solutions to coupled non-linear algebraic equations.\n",
    "\n",
    "-   Next time, we will apply this to solving a nonlinear boundary value differential equation."
   ]
  },
  {
   "cell_type": "markdown",
   "metadata": {},
   "source": [
    "```{note}\n",
    "Technically the polynomial functions here are not preferred anymore (https://numpy.org/doc/stable/reference/routines.polynomials.html). Instead, there is a new `numpy.polynomial` package that is preferred. This new package is more complete, and supposed to be more convenient. However, it introduces some surprising conventions, especially in polynomial fitting, that make it inconvenient in my opinion. That is why I do not recommend them here as the first entrypoint in using polynomials.\n",
    "\n",
    "```"
   ]
  },
  {
   "cell_type": "code",
   "execution_count": 47,
   "metadata": {},
   "outputs": [
    {
     "data": {
      "text/html": [
       "<div id=\"CCPkCFWRZrwF\" data-shufflequestions=\"False\"\n",
       "               data-shuffleanswers=\"True\"\n",
       "               data-preserveresponses=\"false\"\n",
       "               data-numquestions=\"1000000\"\n",
       "               data-maxwidth=\"600\"\n",
       "               style=\"border-radius: 10px; text-align: left\"> <style>\n",
       "#CCPkCFWRZrwF {\n",
       "   --jq-multiple-choice-bg: #6f78ffff;\n",
       "   --jq-mc-button-bg: #fafafa;\n",
       "   --jq-mc-button-border: #e0e0e0e0;\n",
       "   --jq-mc-button-inset-shadow: #555555;\n",
       "   --jq-many-choice-bg: #f75c03ff;\n",
       "   --jq-numeric-bg: #392061ff;\n",
       "   --jq-numeric-input-bg: #c0c0c0;\n",
       "   --jq-numeric-input-label: #101010;\n",
       "   --jq-numeric-input-shadow: #999999;\n",
       "   --jq-incorrect-color: #c80202;\n",
       "   --jq-correct-color: #009113;\n",
       "   --jq-text-color: #fafafa;\n",
       "}\n",
       "\n",
       ".Quiz {\n",
       "    max-width: 600px;\n",
       "    margin-top: 15px;\n",
       "    margin-left: auto;\n",
       "    margin-right: auto;\n",
       "/*    margin-bottom: 15px;*/\n",
       "/*    padding-bottom: 4px;*/\n",
       "    padding-top: 4px;\n",
       "    line-height: 1.1;\n",
       "    font-size: 16pt;\n",
       "    border-radius: inherit;\n",
       "}\n",
       "\n",
       ".QuizCode {\n",
       "    font-size: 14pt;\n",
       "    margin-top: 10px;\n",
       "    margin-left: 20px;\n",
       "    margin-right: 20px;\n",
       "}\n",
       "\n",
       ".QuizCode>pre {\n",
       "    padding: 4px;\n",
       "}\n",
       "\n",
       ".Quiz code {\n",
       "    background-color: lightgray;\n",
       "    color: black;\n",
       "}\n",
       "\n",
       ".Quiz .QuizCode code {\n",
       "    background-color: inherit;\n",
       "    color: inherit;\n",
       "}\n",
       "\n",
       "\n",
       ".Quiz .MCButton code {\n",
       "    background-color: inherit;\n",
       "    color: inherit;\n",
       "}\n",
       "\n",
       ".MCButton .QuizCode {\n",
       "    text-align: left;\n",
       "}\n",
       "\n",
       "\n",
       "\n",
       "\n",
       ".Answer {\n",
       "    border-radius: inherit;\n",
       "    display: grid;\n",
       "    grid-gap: 10px;\n",
       "    grid-template-columns: 1fr 1fr;\n",
       "    margin: 10px 0;\n",
       "}\n",
       "\n",
       "@media only screen and (max-width:480px) {\n",
       "    .Answer {\n",
       "        grid-template-columns: 1fr;\n",
       "    }\n",
       "\n",
       "}\n",
       "\n",
       ".Feedback {\n",
       "    font-size: 16pt;\n",
       "    text-align: center;\n",
       "/*    min-height: 2em;*/\n",
       "}\n",
       "\n",
       ".Input {\n",
       "    align: left;\n",
       "    font-size: 20pt;\n",
       "}\n",
       "\n",
       ".Input-text {\n",
       "    display: block;\n",
       "    margin: 10px;\n",
       "    color: inherit;\n",
       "    width: 140px;\n",
       "    background-color: var(--jq-numeric-input-bg);\n",
       "    color: var(--jq-text-color);\n",
       "    padding: 5px;\n",
       "    padding-left: 10px;\n",
       "    font-family: inherit;\n",
       "    font-size: 20px;\n",
       "    font-weight: inherit;\n",
       "    line-height: 20pt;\n",
       "    border: none;\n",
       "    border-radius: 0.2rem;\n",
       "    transition: box-shadow 0.1s);\n",
       "}\n",
       "\n",
       ".Input-text:focus {\n",
       "    /*outline: none;*/\n",
       "    background-color: var(--jq-numeric-input-bg);\n",
       "    box-shadow: 0.6rem 0.8rem 1.4rem -0.5rem var(--jq-numeric-input-shadow);\n",
       "}\n",
       "\n",
       ".MCButton {\n",
       "    background: var(--jq-mc-button-bg);\n",
       "    border: 1px solid var(--jq-mc-button-border);\n",
       "    border-radius: inherit;\n",
       "    color: #333333;\n",
       "    padding: 10px;\n",
       "    font-size: 16px;\n",
       "    cursor: pointer;\n",
       "    text-align: center;\n",
       "    display: flex;\n",
       "    align-items: center;\n",
       "    justify-content: center;\n",
       "}\n",
       "\n",
       ".MCButton p {\n",
       "    color: inherit;\n",
       "}\n",
       "\n",
       ".MultipleChoiceQn {\n",
       "    padding: 10px;\n",
       "    background: var(--jq-multiple-choice-bg);\n",
       "    color: var(--jq-text-color);\n",
       "    border-radius: inherit;\n",
       "}\n",
       "\n",
       ".ManyChoiceQn {\n",
       "    padding: 10px;\n",
       "    background: var(--jq-many-choice-bg);\n",
       "    color: var(--jq-text-color);\n",
       "    border-radius: inherit;\n",
       "}\n",
       "\n",
       ".NumericQn {\n",
       "    background: var(--jq-numeric-bg);\n",
       "    border-radius: inherit;\n",
       "    color: var(--jq-text-color);\n",
       "    padding: 10px;\n",
       "}\n",
       "\n",
       ".NumericQn p {\n",
       "    color: inherit;\n",
       "}\n",
       "\n",
       ".InpLabel {\n",
       "    color: var(--jq-numeric-input-label);\n",
       "    float: left;\n",
       "    font-size: 15pt;\n",
       "    line-height: 34px;\n",
       "    margin-right: 10px;\n",
       "}\n",
       "\n",
       ".incorrect {\n",
       "    color: var(--jq-incorrect-color);\n",
       "}\n",
       "\n",
       ".correct {\n",
       "    color: var(--jq-correct-color);\n",
       "}\n",
       "\n",
       ".correctButton {\n",
       "    /*\n",
       "    background: var(--jq-correct-color);\n",
       "   */\n",
       "    animation: correct-anim 0.6s ease;\n",
       "    animation-fill-mode: forwards;\n",
       "    box-shadow: inset 0 0 5px var(--jq-mc-button-inset-shadow);\n",
       "    color: var(--jq-text-color);\n",
       "    /*outline: none;*/\n",
       "}\n",
       "\n",
       ".incorrectButton {\n",
       "    animation: incorrect-anim 0.8s ease;\n",
       "    animation-fill-mode: forwards;\n",
       "    box-shadow: inset 0 0 5px var(--jq-mc-button-inset-shadow);\n",
       "    color: var(--jq-text-color);\n",
       "    /*outline: none;*/\n",
       "}\n",
       "\n",
       "@keyframes incorrect-anim {\n",
       "    100% {\n",
       "        background-color: var(--jq-incorrect-color);\n",
       "    }\n",
       "}\n",
       "\n",
       "@keyframes correct-anim {\n",
       "    100% {\n",
       "        background-color: var(--jq-correct-color);\n",
       "    }\n",
       "}\n",
       "</style>"
      ],
      "text/plain": [
       "<IPython.core.display.HTML object>"
      ]
     },
     "metadata": {},
     "output_type": "display_data"
    },
    {
     "data": {
      "application/javascript": [
       "var questionsCCPkCFWRZrwF=[\n",
       "  {\n",
       "    \"question\": \"What will be the input to np.roots() to find the roots of the equation:<br>$5x^4 - 10x^2 + 20x - 50 = 0$\",\n",
       "    \"type\": \"multiple_choice\",\n",
       "    \"answers\": [\n",
       "      {\n",
       "        \"answer\": \"[5, -10, 20, -50]\",\n",
       "        \"correct\": false\n",
       "      },\n",
       "      {\n",
       "        \"answer\": \"[1, -2, 4, 10]\",\n",
       "        \"correct\": false\n",
       "      },\n",
       "      {\n",
       "        \"answer\": \"[5, -10, 20, -50, 0]\",\n",
       "        \"correct\": false\n",
       "      },\n",
       "      {\n",
       "        \"answer\": \"[5, 0, -10, 20, -50]\",\n",
       "        \"correct\": true\n",
       "      }\n",
       "    ],\n",
       "    \"tag\": \"numpy\",\n",
       "    \"lecture_file\": \"08_nla_2\"\n",
       "  },\n",
       "  {\n",
       "    \"question\": \"p = [1, -5, 6]<br>x = np.linspace(0, 10, 20)<br>y = np.polyval(p, x)<br>y.shape = ?\",\n",
       "    \"type\": \"multiple_choice\",\n",
       "    \"answers\": [\n",
       "      {\n",
       "        \"answer\": \"(50,)\",\n",
       "        \"correct\": false\n",
       "      },\n",
       "      {\n",
       "        \"answer\": \"(20,)\",\n",
       "        \"correct\": true\n",
       "      },\n",
       "      {\n",
       "        \"answer\": \"(10,)\",\n",
       "        \"correct\": false\n",
       "      },\n",
       "      {\n",
       "        \"answer\": \"(3,)\",\n",
       "        \"correct\": false\n",
       "      }\n",
       "    ],\n",
       "    \"tag\": \"numpy\",\n",
       "    \"lecture_file\": \"08_nla_2\"\n",
       "  },\n",
       "  {\n",
       "    \"question\": \"What will be the output of:<br>np.polyder([5, 0, 3, 5])\",\n",
       "    \"type\": \"multiple_choice\",\n",
       "    \"answers\": [\n",
       "      {\n",
       "        \"answer\": \"np.array([15, 2, 3])\",\n",
       "        \"correct\": false\n",
       "      },\n",
       "      {\n",
       "        \"answer\": \"np.array([15, 3])\",\n",
       "        \"correct\": false\n",
       "      },\n",
       "      {\n",
       "        \"answer\": \"np.array([15, 3, 0])\",\n",
       "        \"correct\": false\n",
       "      },\n",
       "      {\n",
       "        \"answer\": \"np.array([15, 0, 3])\",\n",
       "        \"correct\": true\n",
       "      }\n",
       "    ],\n",
       "    \"tag\": \"numpy\",\n",
       "    \"lecture_file\": \"08_nla_2\"\n",
       "  },\n",
       "  {\n",
       "    \"question\": \"What will be the output of:<br>p = [1]<br>pint = np.polyint(p, 2, [1, 4])<br>print(pint)\",\n",
       "    \"type\": \"multiple_choice\",\n",
       "    \"answers\": [\n",
       "      {\n",
       "        \"answer\": \"[1.0, 1.0]\",\n",
       "        \"correct\": false\n",
       "      },\n",
       "      {\n",
       "        \"answer\": \"[0.5, 1.0, 4.0]\",\n",
       "        \"correct\": true\n",
       "      },\n",
       "      {\n",
       "        \"answer\": \"[0.167, 1.0, 4.0]\",\n",
       "        \"correct\": false\n",
       "      },\n",
       "      {\n",
       "        \"answer\": \"Error\",\n",
       "        \"correct\": false\n",
       "      }\n",
       "    ],\n",
       "    \"tag\": \"numpy\",\n",
       "    \"lecture_file\": \"08_nla_2\"\n",
       "  },\n",
       "  {\n",
       "    \"question\": \"If 'p = np.poly1d([1, -5, 6])'<br>then 'print(p.r)' will output\",\n",
       "    \"type\": \"multiple_choice\",\n",
       "    \"answers\": [\n",
       "      {\n",
       "        \"answer\": \"[3, 2]\",\n",
       "        \"correct\": true\n",
       "      },\n",
       "      {\n",
       "        \"answer\": \"Error\",\n",
       "        \"correct\": false\n",
       "      },\n",
       "      {\n",
       "        \"answer\": \"False\",\n",
       "        \"correct\": false\n",
       "      },\n",
       "      {\n",
       "        \"answer\": \"True\",\n",
       "        \"correct\": false\n",
       "      }\n",
       "    ],\n",
       "    \"tag\": \"numpy\",\n",
       "    \"lecture_file\": \"08_nla_2\"\n",
       "  },\n",
       "  {\n",
       "    \"question\": \"What will be a possible solution for<br>y = 3x^2 + 6<br>y = 6cos(x)\",\n",
       "    \"type\": \"multiple_choice\",\n",
       "    \"answers\": [\n",
       "      {\n",
       "        \"answer\": \"(0, 0)\",\n",
       "        \"correct\": false\n",
       "      },\n",
       "      {\n",
       "        \"answer\": \"(6, 1)\",\n",
       "        \"correct\": false\n",
       "      },\n",
       "      {\n",
       "        \"answer\": \"(0, 6)\",\n",
       "        \"correct\": true\n",
       "      },\n",
       "      {\n",
       "        \"answer\": \"(6, 3)\",\n",
       "        \"correct\": false\n",
       "      }\n",
       "    ],\n",
       "    \"tag\": \"matplotlib\",\n",
       "    \"lecture_file\": \"08_nla_2\"\n",
       "  },\n",
       "  {\n",
       "    \"question\": \"How many contour lines will be plotted with:<br>plt.contour(X, Y, Z, levels = 10)\",\n",
       "    \"type\": \"multiple_choice\",\n",
       "    \"answers\": [\n",
       "      {\n",
       "        \"answer\": \"11\",\n",
       "        \"correct\": true\n",
       "      },\n",
       "      {\n",
       "        \"answer\": \"10\",\n",
       "        \"correct\": false\n",
       "      },\n",
       "      {\n",
       "        \"answer\": \"9\",\n",
       "        \"correct\": false\n",
       "      },\n",
       "      {\n",
       "        \"answer\": \"50\",\n",
       "        \"correct\": false\n",
       "      }\n",
       "    ],\n",
       "    \"tag\": \"matplotlib contour\",\n",
       "    \"lecture_file\": \"08_nla_2\"\n",
       "  },\n",
       "  {\n",
       "    \"question\": \"<p>What is missing from the following objective function to solve a set of linear equations using root:</p>\\n<pre><code>def f(P):\\n    z1 = 3p + 6 - q + r\\n    z2 = 5p + 5 - 2q + r\\n    z3 = p - q + 2r\\n    return np.array([z1, z2, z3])\\n</code></pre>\",\n",
       "    \"type\": \"multiple_choice\",\n",
       "    \"answers\": [\n",
       "      {\n",
       "        \"answer\": \"z1, z2, z3 = P\",\n",
       "        \"correct\": false\n",
       "      },\n",
       "      {\n",
       "        \"answer\": \"z1+z2+z3 = P\",\n",
       "        \"correct\": false\n",
       "      },\n",
       "      {\n",
       "        \"answer\": \"p, q, r = P\",\n",
       "        \"correct\": true\n",
       "      },\n",
       "      {\n",
       "        \"answer\": \"P = p, q, r\",\n",
       "        \"correct\": false\n",
       "      }\n",
       "    ],\n",
       "    \"tag\": \"scipy\",\n",
       "    \"lecture_file\": \"08_nla_2\"\n",
       "  },\n",
       "  {\n",
       "    \"question\": \"<p>Using <code>root(f, initial_guess)</code> with the following objective function to solve a set of linear equations:</p>\\n<pre><code>def f(p, q, r):\\n    z1 = 3p + 6 - q + r\\n    z2 = 5p + 5 - 2q + r\\n    z3 = p - q + 2r\\n    return np.array([z1, z2, z3])\\n</code></pre>\",\n",
       "    \"type\": \"multiple_choice\",\n",
       "    \"answers\": [\n",
       "      {\n",
       "        \"answer\": \"Will give an error\",\n",
       "        \"correct\": true\n",
       "      },\n",
       "      {\n",
       "        \"answer\": \"The code would work but give the wrong answer.\",\n",
       "        \"correct\": false\n",
       "      },\n",
       "      {\n",
       "        \"answer\": \"The code would work and give the correct  answer.\",\n",
       "        \"correct\": false\n",
       "      },\n",
       "      {\n",
       "        \"answer\": \"The code will give the correct answer if we use: 'root(f, p, args = (q, r))'\",\n",
       "        \"correct\": false\n",
       "      }\n",
       "    ],\n",
       "    \"tag\": \"scipy\",\n",
       "    \"lecture_file\": \"08_nla_2\"\n",
       "  },\n",
       "  {\n",
       "    \"question\": \"<p>How many contour lines will be plotted with:</p>\\n<pre><code class=\\\"language-python\\\">plt.contour(X, Y, Z, levels = np.array([0.1, 0.2, 0.3, -0.1, -0.2, -0.3]))\\n</code></pre>\",\n",
       "    \"type\": \"multiple_choice\",\n",
       "    \"answers\": [\n",
       "      {\n",
       "        \"answer\": \"6\",\n",
       "        \"correct\": false\n",
       "      },\n",
       "      {\n",
       "        \"answer\": \"5\",\n",
       "        \"correct\": false\n",
       "      },\n",
       "      {\n",
       "        \"answer\": \"7\",\n",
       "        \"correct\": false\n",
       "      },\n",
       "      {\n",
       "        \"answer\": \"Error\",\n",
       "        \"correct\": true\n",
       "      }\n",
       "    ],\n",
       "    \"tag\": \"matplotlib contour\",\n",
       "    \"lecture_file\": \"08_nla_2\"\n",
       "  }\n",
       "]\n",
       ";\n",
       "    // Make a random ID\n",
       "function makeid(length) {\n",
       "    var result = [];\n",
       "    var characters = 'ABCDEFGHIJKLMNOPQRSTUVWXYZabcdefghijklmnopqrstuvwxyz';\n",
       "    var charactersLength = characters.length;\n",
       "    for (var i = 0; i < length; i++) {\n",
       "        result.push(characters.charAt(Math.floor(Math.random() * charactersLength)));\n",
       "    }\n",
       "    return result.join('');\n",
       "}\n",
       "\n",
       "// Choose a random subset of an array. Can also be used to shuffle the array\n",
       "function getRandomSubarray(arr, size) {\n",
       "    var shuffled = arr.slice(0), i = arr.length, temp, index;\n",
       "    while (i--) {\n",
       "        index = Math.floor((i + 1) * Math.random());\n",
       "        temp = shuffled[index];\n",
       "        shuffled[index] = shuffled[i];\n",
       "        shuffled[i] = temp;\n",
       "    }\n",
       "    return shuffled.slice(0, size);\n",
       "}\n",
       "\n",
       "function printResponses(responsesContainer) {\n",
       "    var responses=JSON.parse(responsesContainer.dataset.responses);\n",
       "    var stringResponses='<B>IMPORTANT!</B>To preserve this answer sequence for submission, when you have finalized your answers: <ol> <li> Copy the text in this cell below \"Answer String\"</li> <li> Double click on the cell directly below the Answer String, labeled \"Replace Me\"</li> <li> Select the whole \"Replace Me\" text</li> <li> Paste in your answer string and press shift-Enter.</li><li>Save the notebook using the save icon or File->Save Notebook menu item</li></ul><br><br><br><b>Answer String:</b><br> ';\n",
       "    console.log(responses);\n",
       "    responses.forEach((response, index) => {\n",
       "        if (response) {\n",
       "            console.log(index + ': ' + response);\n",
       "            stringResponses+= index + ': ' + response +\"<BR>\";\n",
       "        }\n",
       "    });\n",
       "    responsesContainer.innerHTML=stringResponses;\n",
       "}\n",
       "/* Callback function to determine whether a selected multiple-choice\n",
       "   button corresponded to a correct answer and to provide feedback\n",
       "   based on the answer */\n",
       "function check_mc() {\n",
       "    var id = this.id.split('-')[0];\n",
       "    //var response = this.id.split('-')[1];\n",
       "    //console.log(response);\n",
       "    //console.log(\"In check_mc(), id=\"+id);\n",
       "    //console.log(event.srcElement.id)           \n",
       "    //console.log(event.srcElement.dataset.correct)   \n",
       "    //console.log(event.srcElement.dataset.feedback)\n",
       "\n",
       "    var label = event.srcElement;\n",
       "    //console.log(label, label.nodeName);\n",
       "    var depth = 0;\n",
       "    while ((label.nodeName != \"LABEL\") && (depth < 20)) {\n",
       "        label = label.parentElement;\n",
       "        console.log(depth, label);\n",
       "        depth++;\n",
       "    }\n",
       "\n",
       "\n",
       "\n",
       "    var answers = label.parentElement.children;\n",
       "    //console.log(answers);\n",
       "\n",
       "    // Split behavior based on multiple choice vs many choice:\n",
       "    var fb = document.getElementById(\"fb\" + id);\n",
       "\n",
       "\n",
       "\n",
       "    /* Multiple choice (1 answer). Allow for 0 correct\n",
       "       answers as an edge case */\n",
       "    if (fb.dataset.numcorrect <= 1) {\n",
       "        // What follows is for the saved responses stuff\n",
       "        var outerContainer = fb.parentElement.parentElement;\n",
       "        var responsesContainer = document.getElementById(\"responses\" + outerContainer.id);\n",
       "        if (responsesContainer) {\n",
       "            //console.log(responsesContainer);\n",
       "            var response = label.firstChild.innerText;\n",
       "            if (label.querySelector(\".QuizCode\")){\n",
       "                response+= label.querySelector(\".QuizCode\").firstChild.innerText;\n",
       "            }\n",
       "            console.log(response);\n",
       "            //console.log(document.getElementById(\"quizWrap\"+id));\n",
       "            var qnum = document.getElementById(\"quizWrap\"+id).dataset.qnum;\n",
       "            console.log(\"Question \" + qnum);\n",
       "            //console.log(id, \", got numcorrect=\",fb.dataset.numcorrect);\n",
       "            var responses=JSON.parse(responsesContainer.dataset.responses);\n",
       "            console.log(responses);\n",
       "            responses[qnum]= response;\n",
       "            responsesContainer.setAttribute('data-responses', JSON.stringify(responses));\n",
       "            printResponses(responsesContainer);\n",
       "        }\n",
       "        // End code to preserve responses\n",
       "\n",
       "        for (var i = 0; i < answers.length; i++) {\n",
       "            var child = answers[i];\n",
       "            //console.log(child);\n",
       "            child.className = \"MCButton\";\n",
       "        }\n",
       "\n",
       "\n",
       "\n",
       "        if (label.dataset.correct == \"true\") {\n",
       "            // console.log(\"Correct action\");\n",
       "            if (\"feedback\" in label.dataset) {\n",
       "                fb.innerHTML = jaxify(label.dataset.feedback);\n",
       "            } else {\n",
       "                fb.innerHTML = \"Correct!\";\n",
       "            }\n",
       "            label.classList.add(\"correctButton\");\n",
       "\n",
       "            fb.className = \"Feedback\";\n",
       "            fb.classList.add(\"correct\");\n",
       "\n",
       "        } else {\n",
       "            if (\"feedback\" in label.dataset) {\n",
       "                fb.innerHTML = jaxify(label.dataset.feedback);\n",
       "            } else {\n",
       "                fb.innerHTML = \"Incorrect -- try again.\";\n",
       "            }\n",
       "            //console.log(\"Error action\");\n",
       "            label.classList.add(\"incorrectButton\");\n",
       "            fb.className = \"Feedback\";\n",
       "            fb.classList.add(\"incorrect\");\n",
       "        }\n",
       "    }\n",
       "    else { /* Many choice (more than 1 correct answer) */\n",
       "        var reset = false;\n",
       "        var feedback;\n",
       "         if (label.dataset.correct == \"true\") {\n",
       "            if (\"feedback\" in label.dataset) {\n",
       "                feedback = jaxify(label.dataset.feedback);\n",
       "            } else {\n",
       "                feedback = \"Correct!\";\n",
       "            }\n",
       "            if (label.dataset.answered <= 0) {\n",
       "                if (fb.dataset.answeredcorrect < 0) {\n",
       "                    fb.dataset.answeredcorrect = 1;\n",
       "                    reset = true;\n",
       "                } else {\n",
       "                    fb.dataset.answeredcorrect++;\n",
       "                }\n",
       "                if (reset) {\n",
       "                    for (var i = 0; i < answers.length; i++) {\n",
       "                        var child = answers[i];\n",
       "                        child.className = \"MCButton\";\n",
       "                        child.dataset.answered = 0;\n",
       "                    }\n",
       "                }\n",
       "                label.classList.add(\"correctButton\");\n",
       "                label.dataset.answered = 1;\n",
       "                fb.className = \"Feedback\";\n",
       "                fb.classList.add(\"correct\");\n",
       "\n",
       "            }\n",
       "        } else {\n",
       "            if (\"feedback\" in label.dataset) {\n",
       "                feedback = jaxify(label.dataset.feedback);\n",
       "            } else {\n",
       "                feedback = \"Incorrect -- try again.\";\n",
       "            }\n",
       "            if (fb.dataset.answeredcorrect > 0) {\n",
       "                fb.dataset.answeredcorrect = -1;\n",
       "                reset = true;\n",
       "            } else {\n",
       "                fb.dataset.answeredcorrect--;\n",
       "            }\n",
       "\n",
       "            if (reset) {\n",
       "                for (var i = 0; i < answers.length; i++) {\n",
       "                    var child = answers[i];\n",
       "                    child.className = \"MCButton\";\n",
       "                    child.dataset.answered = 0;\n",
       "                }\n",
       "            }\n",
       "            label.classList.add(\"incorrectButton\");\n",
       "            fb.className = \"Feedback\";\n",
       "            fb.classList.add(\"incorrect\");\n",
       "        }\n",
       "        // What follows is for the saved responses stuff\n",
       "        var outerContainer = fb.parentElement.parentElement;\n",
       "        var responsesContainer = document.getElementById(\"responses\" + outerContainer.id);\n",
       "        if (responsesContainer) {\n",
       "            //console.log(responsesContainer);\n",
       "            var response = label.firstChild.innerText;\n",
       "            if (label.querySelector(\".QuizCode\")){\n",
       "                response+= label.querySelector(\".QuizCode\").firstChild.innerText;\n",
       "            }\n",
       "            console.log(response);\n",
       "            //console.log(document.getElementById(\"quizWrap\"+id));\n",
       "            var qnum = document.getElementById(\"quizWrap\"+id).dataset.qnum;\n",
       "            console.log(\"Question \" + qnum);\n",
       "            //console.log(id, \", got numcorrect=\",fb.dataset.numcorrect);\n",
       "            var responses=JSON.parse(responsesContainer.dataset.responses);\n",
       "            if (label.dataset.correct == \"true\") {\n",
       "                if (typeof(responses[qnum]) == \"object\"){\n",
       "                    if (!responses[qnum].includes(response))\n",
       "                        responses[qnum].push(response);\n",
       "                } else{\n",
       "                    responses[qnum]= [ response ];\n",
       "                }\n",
       "            } else {\n",
       "                responses[qnum]= response;\n",
       "            }\n",
       "            console.log(responses);\n",
       "            responsesContainer.setAttribute('data-responses', JSON.stringify(responses));\n",
       "            printResponses(responsesContainer);\n",
       "        }\n",
       "        // End save responses stuff\n",
       "\n",
       "\n",
       "\n",
       "        var numcorrect = fb.dataset.numcorrect;\n",
       "        var answeredcorrect = fb.dataset.answeredcorrect;\n",
       "        if (answeredcorrect >= 0) {\n",
       "            fb.innerHTML = feedback + \" [\" + answeredcorrect + \"/\" + numcorrect + \"]\";\n",
       "        } else {\n",
       "            fb.innerHTML = feedback + \" [\" + 0 + \"/\" + numcorrect + \"]\";\n",
       "        }\n",
       "\n",
       "\n",
       "    }\n",
       "\n",
       "    if (typeof MathJax != 'undefined') {\n",
       "        var version = MathJax.version;\n",
       "        console.log('MathJax version', version);\n",
       "        if (version[0] == \"2\") {\n",
       "            MathJax.Hub.Queue([\"Typeset\", MathJax.Hub]);\n",
       "        } else if (version[0] == \"3\") {\n",
       "            MathJax.typeset([fb]);\n",
       "        }\n",
       "    } else {\n",
       "        console.log('MathJax not detected');\n",
       "    }\n",
       "\n",
       "}\n",
       "\n",
       "\n",
       "/* Function to produce the HTML buttons for a multiple choice/\n",
       "   many choice question  and to update the CSS tags based on\n",
       "   the question type */\n",
       "function make_mc(qa, shuffle_answers, outerqDiv, qDiv, aDiv, id) {\n",
       "\n",
       "    var shuffled;\n",
       "    if (shuffle_answers == \"True\") {\n",
       "        //console.log(shuffle_answers+\" read as true\");\n",
       "        shuffled = getRandomSubarray(qa.answers, qa.answers.length);\n",
       "    } else {\n",
       "        //console.log(shuffle_answers+\" read as false\");\n",
       "        shuffled = qa.answers;\n",
       "    }\n",
       "\n",
       "\n",
       "    var num_correct = 0;\n",
       "\n",
       "    shuffled.forEach((item, index, ans_array) => {\n",
       "        //console.log(answer);\n",
       "\n",
       "        // Make input element\n",
       "        var inp = document.createElement(\"input\");\n",
       "        inp.type = \"radio\";\n",
       "        inp.id = \"quizo\" + id + index;\n",
       "        inp.style = \"display:none;\";\n",
       "        aDiv.append(inp);\n",
       "\n",
       "        //Make label for input element\n",
       "        var lab = document.createElement(\"label\");\n",
       "        lab.className = \"MCButton\";\n",
       "        lab.id = id + '-' + index;\n",
       "        lab.onclick = check_mc;\n",
       "        var aSpan = document.createElement('span');\n",
       "        aSpan.classsName = \"\";\n",
       "        //qDiv.id=\"quizQn\"+id+index;\n",
       "        if (\"answer\" in item) {\n",
       "            aSpan.innerHTML = jaxify(item.answer);\n",
       "            //aSpan.innerHTML=item.answer;\n",
       "        }\n",
       "        lab.append(aSpan);\n",
       "\n",
       "        // Create div for code inside question\n",
       "        var codeSpan;\n",
       "        if (\"code\" in item) {\n",
       "            codeSpan = document.createElement('span');\n",
       "            codeSpan.id = \"code\" + id + index;\n",
       "            codeSpan.className = \"QuizCode\";\n",
       "            var codePre = document.createElement('pre');\n",
       "            codeSpan.append(codePre);\n",
       "            var codeCode = document.createElement('code');\n",
       "            codePre.append(codeCode);\n",
       "            codeCode.innerHTML = item.code;\n",
       "            lab.append(codeSpan);\n",
       "            //console.log(codeSpan);\n",
       "        }\n",
       "\n",
       "        //lab.textContent=item.answer;\n",
       "\n",
       "        // Set the data attributes for the answer\n",
       "        lab.setAttribute('data-correct', item.correct);\n",
       "        if (item.correct) {\n",
       "            num_correct++;\n",
       "        }\n",
       "        if (\"feedback\" in item) {\n",
       "            lab.setAttribute('data-feedback', item.feedback);\n",
       "        }\n",
       "        lab.setAttribute('data-answered', 0);\n",
       "\n",
       "        aDiv.append(lab);\n",
       "\n",
       "    });\n",
       "\n",
       "    if (num_correct > 1) {\n",
       "        outerqDiv.className = \"ManyChoiceQn\";\n",
       "    } else {\n",
       "        outerqDiv.className = \"MultipleChoiceQn\";\n",
       "    }\n",
       "\n",
       "    return num_correct;\n",
       "\n",
       "}\n",
       "function check_numeric(ths, event) {\n",
       "\n",
       "    if (event.keyCode === 13) {\n",
       "        ths.blur();\n",
       "\n",
       "        var id = ths.id.split('-')[0];\n",
       "\n",
       "        var submission = ths.value;\n",
       "        if (submission.indexOf('/') != -1) {\n",
       "            var sub_parts = submission.split('/');\n",
       "            //console.log(sub_parts);\n",
       "            submission = sub_parts[0] / sub_parts[1];\n",
       "        }\n",
       "        //console.log(\"Reader entered\", submission);\n",
       "\n",
       "        if (\"precision\" in ths.dataset) {\n",
       "            var precision = ths.dataset.precision;\n",
       "            submission = Number(Number(submission).toPrecision(precision));\n",
       "        }\n",
       "\n",
       "\n",
       "        //console.log(\"In check_numeric(), id=\"+id);\n",
       "        //console.log(event.srcElement.id)           \n",
       "        //console.log(event.srcElement.dataset.feedback)\n",
       "\n",
       "        var fb = document.getElementById(\"fb\" + id);\n",
       "        fb.style.display = \"none\";\n",
       "        fb.innerHTML = \"Incorrect -- try again.\";\n",
       "\n",
       "        var answers = JSON.parse(ths.dataset.answers);\n",
       "        //console.log(answers);\n",
       "\n",
       "        var defaultFB = \"Incorrect. Try again.\";\n",
       "        var correct;\n",
       "        var done = false;\n",
       "        answers.every(answer => {\n",
       "            //console.log(answer.type);\n",
       "\n",
       "            correct = false;\n",
       "            // if (answer.type==\"value\"){\n",
       "            if ('value' in answer) {\n",
       "                if (submission == answer.value) {\n",
       "                    if (\"feedback\" in answer) {\n",
       "                        fb.innerHTML = jaxify(answer.feedback);\n",
       "                    } else {\n",
       "                        fb.innerHTML = jaxify(\"Correct\");\n",
       "                    }\n",
       "                    correct = answer.correct;\n",
       "                    //console.log(answer.correct);\n",
       "                    done = true;\n",
       "                }\n",
       "                // } else if (answer.type==\"range\") {\n",
       "            } else if ('range' in answer) {\n",
       "                console.log(answer.range);\n",
       "                console.log(submission, submission >=answer.range[0], submission < answer.range[1])\n",
       "                if ((submission >= answer.range[0]) && (submission < answer.range[1])) {\n",
       "                    fb.innerHTML = jaxify(answer.feedback);\n",
       "                    correct = answer.correct;\n",
       "                    console.log(answer.correct);\n",
       "                    done = true;\n",
       "                }\n",
       "            } else if (answer.type == \"default\") {\n",
       "                if (\"feedback\" in answer) {\n",
       "                    defaultFB = answer.feedback;\n",
       "                } \n",
       "            }\n",
       "            if (done) {\n",
       "                return false; // Break out of loop if this has been marked correct\n",
       "            } else {\n",
       "                return true; // Keep looking for case that includes this as a correct answer\n",
       "            }\n",
       "        });\n",
       "        console.log(\"done:\", done);\n",
       "\n",
       "        if ((!done) && (defaultFB != \"\")) {\n",
       "            fb.innerHTML = jaxify(defaultFB);\n",
       "            //console.log(\"Default feedback\", defaultFB);\n",
       "        }\n",
       "\n",
       "        fb.style.display = \"block\";\n",
       "        if (correct) {\n",
       "            ths.className = \"Input-text\";\n",
       "            ths.classList.add(\"correctButton\");\n",
       "            fb.className = \"Feedback\";\n",
       "            fb.classList.add(\"correct\");\n",
       "        } else {\n",
       "            ths.className = \"Input-text\";\n",
       "            ths.classList.add(\"incorrectButton\");\n",
       "            fb.className = \"Feedback\";\n",
       "            fb.classList.add(\"incorrect\");\n",
       "        }\n",
       "\n",
       "        // What follows is for the saved responses stuff\n",
       "        var outerContainer = fb.parentElement.parentElement;\n",
       "        var responsesContainer = document.getElementById(\"responses\" + outerContainer.id);\n",
       "        if (responsesContainer) {\n",
       "            console.log(submission);\n",
       "            var qnum = document.getElementById(\"quizWrap\"+id).dataset.qnum;\n",
       "            //console.log(\"Question \" + qnum);\n",
       "            //console.log(id, \", got numcorrect=\",fb.dataset.numcorrect);\n",
       "            var responses=JSON.parse(responsesContainer.dataset.responses);\n",
       "            console.log(responses);\n",
       "            if (submission == ths.value){\n",
       "                responses[qnum]= submission;\n",
       "            } else {\n",
       "                responses[qnum]= ths.value + \"(\" + submission +\")\";\n",
       "            }\n",
       "            responsesContainer.setAttribute('data-responses', JSON.stringify(responses));\n",
       "            printResponses(responsesContainer);\n",
       "        }\n",
       "        // End code to preserve responses\n",
       "\n",
       "        if (typeof MathJax != 'undefined') {\n",
       "            var version = MathJax.version;\n",
       "            console.log('MathJax version', version);\n",
       "            if (version[0] == \"2\") {\n",
       "                MathJax.Hub.Queue([\"Typeset\", MathJax.Hub]);\n",
       "            } else if (version[0] == \"3\") {\n",
       "                MathJax.typeset([fb]);\n",
       "            }\n",
       "        } else {\n",
       "            console.log('MathJax not detected');\n",
       "        }\n",
       "        return false;\n",
       "    }\n",
       "\n",
       "}\n",
       "\n",
       "function isValid(el, charC) {\n",
       "    //console.log(\"Input char: \", charC);\n",
       "    if (charC == 46) {\n",
       "        if (el.value.indexOf('.') === -1) {\n",
       "            return true;\n",
       "        } else if (el.value.indexOf('/') != -1) {\n",
       "            var parts = el.value.split('/');\n",
       "            if (parts[1].indexOf('.') === -1) {\n",
       "                return true;\n",
       "            }\n",
       "        }\n",
       "        else {\n",
       "            return false;\n",
       "        }\n",
       "    } else if (charC == 47) {\n",
       "        if (el.value.indexOf('/') === -1) {\n",
       "            if ((el.value != \"\") && (el.value != \".\")) {\n",
       "                return true;\n",
       "            } else {\n",
       "                return false;\n",
       "            }\n",
       "        } else {\n",
       "            return false;\n",
       "        }\n",
       "    } else if (charC == 45) {\n",
       "        var edex = el.value.indexOf('e');\n",
       "        if (edex == -1) {\n",
       "            edex = el.value.indexOf('E');\n",
       "        }\n",
       "\n",
       "        if (el.value == \"\") {\n",
       "            return true;\n",
       "        } else if (edex == (el.value.length - 1)) { // If just after e or E\n",
       "            return true;\n",
       "        } else {\n",
       "            return false;\n",
       "        }\n",
       "    } else if (charC == 101) { // \"e\"\n",
       "        if ((el.value.indexOf('e') === -1) && (el.value.indexOf('E') === -1) && (el.value.indexOf('/') == -1)) {\n",
       "            // Prev symbol must be digit or decimal point:\n",
       "            if (el.value.slice(-1).search(/\\d/) >= 0) {\n",
       "                return true;\n",
       "            } else if (el.value.slice(-1).search(/\\./) >= 0) {\n",
       "                return true;\n",
       "            } else {\n",
       "                return false;\n",
       "            }\n",
       "        } else {\n",
       "            return false;\n",
       "        }\n",
       "    } else {\n",
       "        if (charC > 31 && (charC < 48 || charC > 57))\n",
       "            return false;\n",
       "    }\n",
       "    return true;\n",
       "}\n",
       "\n",
       "function numeric_keypress(evnt) {\n",
       "    var charC = (evnt.which) ? evnt.which : evnt.keyCode;\n",
       "\n",
       "    if (charC == 13) {\n",
       "        check_numeric(this, evnt);\n",
       "    } else {\n",
       "        return isValid(this, charC);\n",
       "    }\n",
       "}\n",
       "\n",
       "\n",
       "\n",
       "\n",
       "\n",
       "function make_numeric(qa, outerqDiv, qDiv, aDiv, id) {\n",
       "\n",
       "\n",
       "\n",
       "    //console.log(answer);\n",
       "\n",
       "\n",
       "    outerqDiv.className = \"NumericQn\";\n",
       "    aDiv.style.display = 'block';\n",
       "\n",
       "    var lab = document.createElement(\"label\");\n",
       "    lab.className = \"InpLabel\";\n",
       "    lab.innerHTML = \"Type numeric answer here:\";\n",
       "    aDiv.append(lab);\n",
       "\n",
       "    var inp = document.createElement(\"input\");\n",
       "    inp.type = \"text\";\n",
       "    //inp.id=\"input-\"+id;\n",
       "    inp.id = id + \"-0\";\n",
       "    inp.className = \"Input-text\";\n",
       "    inp.setAttribute('data-answers', JSON.stringify(qa.answers));\n",
       "    if (\"precision\" in qa) {\n",
       "        inp.setAttribute('data-precision', qa.precision);\n",
       "    }\n",
       "    aDiv.append(inp);\n",
       "    //console.log(inp);\n",
       "\n",
       "    //inp.addEventListener(\"keypress\", check_numeric);\n",
       "    //inp.addEventListener(\"keypress\", numeric_keypress);\n",
       "    /*\n",
       "    inp.addEventListener(\"keypress\", function(event) {\n",
       "        return numeric_keypress(this, event);\n",
       "    }\n",
       "                        );\n",
       "                        */\n",
       "    //inp.onkeypress=\"return numeric_keypress(this, event)\";\n",
       "    inp.onkeypress = numeric_keypress;\n",
       "    inp.onpaste = event => false;\n",
       "\n",
       "    inp.addEventListener(\"focus\", function (event) {\n",
       "        this.value = \"\";\n",
       "        return false;\n",
       "    }\n",
       "    );\n",
       "\n",
       "\n",
       "}\n",
       "function jaxify(string) {\n",
       "    var mystring = string;\n",
       "\n",
       "    var count = 0;\n",
       "    var loc = mystring.search(/([^\\\\]|^)(\\$)/);\n",
       "\n",
       "    var count2 = 0;\n",
       "    var loc2 = mystring.search(/([^\\\\]|^)(\\$\\$)/);\n",
       "\n",
       "    //console.log(loc);\n",
       "\n",
       "    while ((loc >= 0) || (loc2 >= 0)) {\n",
       "\n",
       "        /* Have to replace all the double $$ first with current implementation */\n",
       "        if (loc2 >= 0) {\n",
       "            if (count2 % 2 == 0) {\n",
       "                mystring = mystring.replace(/([^\\\\]|^)(\\$\\$)/, \"$1\\\\[\");\n",
       "            } else {\n",
       "                mystring = mystring.replace(/([^\\\\]|^)(\\$\\$)/, \"$1\\\\]\");\n",
       "            }\n",
       "            count2++;\n",
       "        } else {\n",
       "            if (count % 2 == 0) {\n",
       "                mystring = mystring.replace(/([^\\\\]|^)(\\$)/, \"$1\\\\(\");\n",
       "            } else {\n",
       "                mystring = mystring.replace(/([^\\\\]|^)(\\$)/, \"$1\\\\)\");\n",
       "            }\n",
       "            count++;\n",
       "        }\n",
       "        loc = mystring.search(/([^\\\\]|^)(\\$)/);\n",
       "        loc2 = mystring.search(/([^\\\\]|^)(\\$\\$)/);\n",
       "        //console.log(mystring,\", loc:\",loc,\", loc2:\",loc2);\n",
       "    }\n",
       "\n",
       "    // repace markdown style links with actual links\n",
       "    mystring = mystring.replace(/<(.*?)>/, '<a href=\"$1\" target=\"_blank\" class=\"Link\">$1</a>');\n",
       "    mystring = mystring.replace(/\\[(.*?)\\]\\((.*?)\\)/, '<a href=\"$2\" target=\"_blank\" class=\"Link\">$1</a>');\n",
       "\n",
       "    //console.log(mystring);\n",
       "    return mystring;\n",
       "}\n",
       "\n",
       "\n",
       "function show_questions(json, mydiv) {\n",
       "    console.log('show_questions');\n",
       "    //var mydiv=document.getElementById(myid);\n",
       "    var shuffle_questions = mydiv.dataset.shufflequestions;\n",
       "    var num_questions = mydiv.dataset.numquestions;\n",
       "    var shuffle_answers = mydiv.dataset.shuffleanswers;\n",
       "    var max_width = mydiv.dataset.maxwidth;\n",
       "\n",
       "    if (num_questions > json.length) {\n",
       "        num_questions = json.length;\n",
       "    }\n",
       "\n",
       "    var questions;\n",
       "    if ((num_questions < json.length) || (shuffle_questions == \"True\")) {\n",
       "        //console.log(num_questions+\",\"+json.length);\n",
       "        questions = getRandomSubarray(json, num_questions);\n",
       "    } else {\n",
       "        questions = json;\n",
       "    }\n",
       "\n",
       "    //console.log(\"SQ: \"+shuffle_questions+\", NQ: \" + num_questions + \", SA: \", shuffle_answers);\n",
       "\n",
       "    // Iterate over questions\n",
       "    questions.forEach((qa, index, array) => {\n",
       "        //console.log(qa.question); \n",
       "\n",
       "        var id = makeid(8);\n",
       "        //console.log(id);\n",
       "\n",
       "\n",
       "        // Create Div to contain question and answers\n",
       "        var iDiv = document.createElement('div');\n",
       "        //iDiv.id = 'quizWrap' + id + index;\n",
       "        iDiv.id = 'quizWrap' + id;\n",
       "        iDiv.className = 'Quiz';\n",
       "        iDiv.setAttribute('data-qnum', index);\n",
       "        iDiv.style.maxWidth  =max_width+\"px\";\n",
       "        mydiv.appendChild(iDiv);\n",
       "        // iDiv.innerHTML=qa.question;\n",
       "        \n",
       "        var outerqDiv = document.createElement('div');\n",
       "        outerqDiv.id = \"OuterquizQn\" + id + index;\n",
       "        // Create div to contain question part\n",
       "        var qDiv = document.createElement('div');\n",
       "        qDiv.id = \"quizQn\" + id + index;\n",
       "        \n",
       "        if (qa.question) {\n",
       "            iDiv.append(outerqDiv);\n",
       "\n",
       "            //qDiv.textContent=qa.question;\n",
       "            qDiv.innerHTML = jaxify(qa.question);\n",
       "            outerqDiv.append(qDiv);\n",
       "        }\n",
       "\n",
       "        // Create div for code inside question\n",
       "        var codeDiv;\n",
       "        if (\"code\" in qa) {\n",
       "            codeDiv = document.createElement('div');\n",
       "            codeDiv.id = \"code\" + id + index;\n",
       "            codeDiv.className = \"QuizCode\";\n",
       "            var codePre = document.createElement('pre');\n",
       "            codeDiv.append(codePre);\n",
       "            var codeCode = document.createElement('code');\n",
       "            codePre.append(codeCode);\n",
       "            codeCode.innerHTML = qa.code;\n",
       "            outerqDiv.append(codeDiv);\n",
       "            //console.log(codeDiv);\n",
       "        }\n",
       "\n",
       "\n",
       "        // Create div to contain answer part\n",
       "        var aDiv = document.createElement('div');\n",
       "        aDiv.id = \"quizAns\" + id + index;\n",
       "        aDiv.className = 'Answer';\n",
       "        iDiv.append(aDiv);\n",
       "\n",
       "        //console.log(qa.type);\n",
       "\n",
       "        var num_correct;\n",
       "        if ((qa.type == \"multiple_choice\") || (qa.type == \"many_choice\") ) {\n",
       "            num_correct = make_mc(qa, shuffle_answers, outerqDiv, qDiv, aDiv, id);\n",
       "            if (\"answer_cols\" in qa) {\n",
       "                //aDiv.style.gridTemplateColumns = 'auto '.repeat(qa.answer_cols);\n",
       "                aDiv.style.gridTemplateColumns = 'repeat(' + qa.answer_cols + ', 1fr)';\n",
       "            }\n",
       "        } else if (qa.type == \"numeric\") {\n",
       "            //console.log(\"numeric\");\n",
       "            make_numeric(qa, outerqDiv, qDiv, aDiv, id);\n",
       "        }\n",
       "\n",
       "\n",
       "        //Make div for feedback\n",
       "        var fb = document.createElement(\"div\");\n",
       "        fb.id = \"fb\" + id;\n",
       "        //fb.style=\"font-size: 20px;text-align:center;\";\n",
       "        fb.className = \"Feedback\";\n",
       "        fb.setAttribute(\"data-answeredcorrect\", 0);\n",
       "        fb.setAttribute(\"data-numcorrect\", num_correct);\n",
       "        iDiv.append(fb);\n",
       "\n",
       "\n",
       "    });\n",
       "    var preserveResponses = mydiv.dataset.preserveresponses;\n",
       "    console.log(preserveResponses);\n",
       "    console.log(preserveResponses == \"true\");\n",
       "    if (preserveResponses == \"true\") {\n",
       "        console.log(preserveResponses);\n",
       "        // Create Div to contain record of answers\n",
       "        var iDiv = document.createElement('div');\n",
       "        iDiv.id = 'responses' + mydiv.id;\n",
       "        iDiv.className = 'JCResponses';\n",
       "        // Create a place to store responses as an empty array\n",
       "        iDiv.setAttribute('data-responses', '[]');\n",
       "\n",
       "        // Dummy Text\n",
       "        iDiv.innerHTML=\"<b>Select your answers and then follow the directions that will appear here.</b>\"\n",
       "        //iDiv.className = 'Quiz';\n",
       "        mydiv.appendChild(iDiv);\n",
       "    }\n",
       "//console.log(\"At end of show_questions\");\n",
       "    if (typeof MathJax != 'undefined') {\n",
       "        console.log(\"MathJax version\", MathJax.version);\n",
       "        var version = MathJax.version;\n",
       "        setTimeout(function(){\n",
       "            var version = MathJax.version;\n",
       "            console.log('After sleep, MathJax version', version);\n",
       "            if (version[0] == \"2\") {\n",
       "                MathJax.Hub.Queue([\"Typeset\", MathJax.Hub]);\n",
       "            } else if (version[0] == \"3\") {\n",
       "                if (MathJax.hasOwnProperty('typeset') ) {\n",
       "                    MathJax.typeset([mydiv]);\n",
       "                } else {\n",
       "                    console.log('WARNING: Trying to force load MathJax 3');\n",
       "                    window.MathJax = {\n",
       "                        tex: {\n",
       "                            inlineMath: [['$', '$'], ['\\\\(', '\\\\)']]\n",
       "                        },\n",
       "                        svg: {\n",
       "                            fontCache: 'global'\n",
       "                        }\n",
       "                    };\n",
       "\n",
       "                    (function () {\n",
       "                        var script = document.createElement('script');\n",
       "                        script.src = 'https://cdn.jsdelivr.net/npm/mathjax@3/es5/tex-svg.js';\n",
       "                        script.async = true;\n",
       "                        document.head.appendChild(script);\n",
       "                    })();\n",
       "                }\n",
       "            }\n",
       "        }, 500);\n",
       "if (typeof version == 'undefined') {\n",
       "        } else\n",
       "        {\n",
       "            if (version[0] == \"2\") {\n",
       "                MathJax.Hub.Queue([\"Typeset\", MathJax.Hub]);\n",
       "            } else if (version[0] == \"3\") {\n",
       "                if (MathJax.hasOwnProperty('typeset') ) {\n",
       "                    MathJax.typeset([mydiv]);\n",
       "                } else {\n",
       "                    console.log('WARNING: Trying to force load MathJax 3');\n",
       "                    window.MathJax = {\n",
       "                        tex: {\n",
       "                            inlineMath: [['$', '$'], ['\\\\(', '\\\\)']]\n",
       "                        },\n",
       "                        svg: {\n",
       "                            fontCache: 'global'\n",
       "                        }\n",
       "                    };\n",
       "\n",
       "                    (function () {\n",
       "                        var script = document.createElement('script');\n",
       "                        script.src = 'https://cdn.jsdelivr.net/npm/mathjax@3/es5/tex-svg.js';\n",
       "                        script.async = true;\n",
       "                        document.head.appendChild(script);\n",
       "                    })();\n",
       "                }\n",
       "            } else {\n",
       "                console.log(\"MathJax not found\");\n",
       "            }\n",
       "        }\n",
       "    }\n",
       "\n",
       "    // stop event propagation for the .Link class\n",
       "    var links = document.getElementsByClassName('Link')\n",
       "    for (var i = 0; i < links.length; i++) {\n",
       "        links[i].addEventListener('click', function(e){\n",
       "            e.stopPropagation();\n",
       "        });\n",
       "    }\n",
       "\n",
       "    return false;\n",
       "}\n",
       "/* This is to handle asynchrony issues in loading Jupyter notebooks\n",
       "           where the quiz has been previously run. The Javascript was generally\n",
       "           being run before the div was added to the DOM. I tried to do this\n",
       "           more elegantly using Mutation Observer, but I didn't get it to work.\n",
       "\n",
       "           Someone more knowledgeable could make this better ;-) */\n",
       "\n",
       "        function try_show() {\n",
       "          if(document.getElementById(\"CCPkCFWRZrwF\")) {\n",
       "            show_questions(questionsCCPkCFWRZrwF,  CCPkCFWRZrwF); \n",
       "          } else {\n",
       "             setTimeout(try_show, 200);\n",
       "          }\n",
       "        };\n",
       "    \n",
       "        {\n",
       "        // console.log(element);\n",
       "\n",
       "        //console.log(\"CCPkCFWRZrwF\");\n",
       "        // console.log(document.getElementById(\"CCPkCFWRZrwF\"));\n",
       "\n",
       "        try_show();\n",
       "        }\n",
       "        "
      ],
      "text/plain": [
       "<IPython.core.display.Javascript object>"
      ]
     },
     "metadata": {},
     "output_type": "display_data"
    }
   ],
   "source": [
    "from jupyterquiz import display_quiz\n",
    "display_quiz('.quiz.json')"
   ]
  }
 ],
 "metadata": {
  "colab": {
   "collapsed_sections": [],
   "name": "08-nla-2.ipynb",
   "provenance": []
  },
  "kernelspec": {
   "display_name": "Python 3 (ipykernel)",
   "language": "python",
   "name": "python3"
  },
  "language_info": {
   "codemirror_mode": {
    "name": "ipython",
    "version": 3
   },
   "file_extension": ".py",
   "mimetype": "text/x-python",
   "name": "python",
   "nbconvert_exporter": "python",
   "pygments_lexer": "ipython3",
   "version": "3.12.6"
  },
  "org": {
   "KEYWORDS": "scipy.optimize.fsolve, numpy.roots, numpy.polyder, numpy.polyval, numpy.polyint, numpy.poly1d"
  },
  "widgets": {
   "application/vnd.jupyter.widget-state+json": {
    "state": {},
    "version_major": 2,
    "version_minor": 0
   }
  }
 },
 "nbformat": 4,
 "nbformat_minor": 4
}
