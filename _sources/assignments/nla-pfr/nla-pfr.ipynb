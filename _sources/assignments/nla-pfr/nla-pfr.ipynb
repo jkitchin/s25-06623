{
 "cells": [
  {
   "cell_type": "markdown",
   "id": "b6d41fdc",
   "metadata": {},
   "source": [
    "Before you turn this problem in, make sure everything runs as expected. First, **restart the kernel** (in the menubar, select Kernel$\\rightarrow$Restart) and then **run all cells** (in the menubar, select Cell$\\rightarrow$Run All).\n",
    "\n",
    "Make sure you fill in any place that says `YOUR CODE HERE` or \"YOUR ANSWER HERE\", as well as your name and collaborators below:\n",
    "\n"
   ]
  },
  {
   "cell_type": "code",
   "execution_count": 2,
   "id": "a464c58c",
   "metadata": {},
   "outputs": [],
   "source": [
    "NAME = \"\"\n",
    "COLLABORATORS = \"\"\n"
   ]
  },
  {
   "cell_type": "markdown",
   "id": "8721c3dc-7a5d-472d-a69c-d301188ba4de",
   "metadata": {},
   "source": [
    "A first-order irreversible liquid-phase reaction:\n",
    "\n",
    "\n",
    "$A \\rightarrow B$\n",
    "\n",
    "\n",
    "takes place in a Plug Flow Reactor (PFR). The rate of reaction is given by:\n",
    "\n",
    "\n",
    "$-r_A = k C_A$\n",
    "\n",
    "\n",
    "where:\n",
    "\n",
    "- $-r_A$  is the rate of disappearance of  A  (mol/L·s)\n",
    "- $k = 0.2  s^{-1}$ is the reaction rate constant\n",
    "- $C_A$  is the concentration of reactant  A  at any point in the reactor (mol/L)\n",
    "\n",
    "The reactor operates at steady state with:\n",
    "\n",
    "- Inlet concentration:  $C_{A0}$ = 1.0  mol/L\n",
    "- Inlet molar flow rate:  $F_{A0}$ = 2.0  mol/s\n",
    "- Desired conversion:  $X = 0.80$ \n",
    "\n",
    "Using the design equation for a PFR:\n",
    "\n",
    "\n",
    "$V = \\int_0^X \\frac{F_{A0} \\, dX}{-r_A}$\n",
    "\n",
    "\n",
    "Find the required reactor volume (V in L) using Python."
   ]
  },
  {
   "cell_type": "markdown",
   "id": "0963c0db",
   "metadata": {},
   "source": [
    "---\n",
    "\n"
   ]
  },
  {
   "cell_type": "code",
   "execution_count": 3,
   "id": "0f0de12d-c16f-4aac-868c-11f0d072eb3e",
   "metadata": {
    "nbgrader": {
     "grade": true,
     "grade_id": "cell-92da3734a5a2e41e",
     "locked": false,
     "points": 0,
     "schema_version": 3,
     "solution": true,
     "task": false
    },
    "tags": []
   },
   "outputs": [],
   "source": []
  },
  {
   "cell_type": "markdown",
   "id": "613d1a50-b2bb-41c8-b643-4883566ecee7",
   "metadata": {},
   "source": [
    "When you are done, download a PDF and turn it in on Canvas. Make sure to save your notebook, then run this cell and click on the download link."
   ]
  },
  {
   "cell_type": "code",
   "execution_count": null,
   "id": "d39da989-d274-4dc2-a01a-51a59375ffd9",
   "metadata": {
    "tags": [
     "raises-exception",
     "remove-output"
    ]
   },
   "outputs": [],
   "source": [
    "%run ~/s25-06623/s25.py\n",
    "%pdf"
   ]
  },
  {
   "cell_type": "markdown",
   "id": "6a974f57-c57c-4441-b2c9-4c6bc4a31ff7",
   "metadata": {},
   "source": [
    "\n",
    "\n"
   ]
  },
  {
   "cell_type": "markdown",
   "id": "d5cea8dc",
   "metadata": {},
   "source": [
    "Before you turn this problem in, make sure everything runs as expected. First, **restart the kernel** (in the menubar, select Kernel$\\rightarrow$Restart) and then **run all cells** (in the menubar, select Cell$\\rightarrow$Run All).\n",
    "\n",
    "Make sure you fill in any place that says `YOUR CODE HERE` or \"YOUR ANSWER HERE\", as well as your name and collaborators below:\n",
    "\n"
   ]
  },
  {
   "cell_type": "code",
   "execution_count": 2,
   "id": "721f7c3c",
   "metadata": {},
   "outputs": [],
   "source": [
    "NAME = \"\"\n",
    "COLLABORATORS = \"\"\n"
   ]
  },
  {
   "cell_type": "markdown",
   "id": "751be76f",
   "metadata": {},
   "source": [
    "A first-order irreversible liquid-phase reaction:\n",
    "\n",
    "\n",
    "$A \\rightarrow B$\n",
    "\n",
    "\n",
    "takes place in a Plug Flow Reactor (PFR). The rate of reaction is given by:\n",
    "\n",
    "\n",
    "$-r_A = k C_A$\n",
    "\n",
    "\n",
    "where:\n",
    "\n",
    "- $-r_A$  is the rate of disappearance of  A  (mol/L·s)\n",
    "- $k = 0.2  s^{-1}$ is the reaction rate constant\n",
    "- $C_A$  is the concentration of reactant  A  at any point in the reactor (mol/L)\n",
    "\n",
    "The reactor operates at steady state with:\n",
    "\n",
    "- Inlet concentration:  $C_{A0}$ = 1.0  mol/L\n",
    "- Inlet volumetric flow rate:  $F_{A0}$ = 2.0  L/s\n",
    "- Desired conversion:  $X = 0.80$ \n",
    "\n",
    "Using the design equation for a PFR:\n",
    "\n",
    "\n",
    "$V = \\int_0^X \\frac{F_{A0} \\, dX}{-r_A}$\n",
    "\n",
    "\n",
    "Find the required reactor volume (V in L) using Python."
   ]
  },
  {
   "cell_type": "markdown",
   "id": "0e2e56c2",
   "metadata": {},
   "source": [
    "---\n",
    "\n"
   ]
  },
  {
   "cell_type": "code",
   "execution_count": 3,
   "id": "1b2304e9",
   "metadata": {
    "nbgrader": {
     "grade": true,
     "grade_id": "cell-92da3734a5a2e41e",
     "locked": false,
     "points": 0,
     "schema_version": 3,
     "solution": true,
     "task": false
    },
    "tags": []
   },
   "outputs": [],
   "source": []
  },
  {
   "cell_type": "markdown",
   "id": "49f72700",
   "metadata": {},
   "source": [
    "When you are done, download a PDF and turn it in on Canvas. Make sure to save your notebook, then run this cell and click on the download link."
   ]
  },
  {
   "cell_type": "code",
   "execution_count": null,
   "id": "9c41af12",
   "metadata": {
    "tags": [
     "raises-exception",
     "remove-output"
    ]
   },
   "outputs": [],
   "source": [
    "%run ~/s25-06623/s25.py\n",
    "%pdf"
   ]
  },
  {
   "cell_type": "markdown",
   "id": "a2e696a2",
   "metadata": {},
   "source": [
    "\n",
    "\n"
   ]
  }
 ],
 "metadata": {
  "kernelspec": {
   "display_name": "Python 3 (ipykernel)",
   "language": "python",
   "name": "python3"
  },
  "language_info": {
   "codemirror_mode": {
    "name": "ipython",
    "version": 3
   },
   "file_extension": ".py",
   "mimetype": "text/x-python",
   "name": "python",
   "nbconvert_exporter": "python",
   "pygments_lexer": "ipython3",
   "version": "3.12.6"
  },
  "widgets": {
   "application/vnd.jupyter.widget-state+json": {
    "state": {},
    "version_major": 2,
    "version_minor": 0
   }
  }
 },
 "nbformat": 4,
 "nbformat_minor": 5
}
