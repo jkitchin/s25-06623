{
 "cells": [
  {
   "cell_type": "markdown",
   "id": "b6d41fdc",
   "metadata": {},
   "source": [
    "Before you turn this problem in, make sure everything runs as expected. First, **restart the kernel** (in the menubar, select Kernel$\\rightarrow$Restart) and then **run all cells** (in the menubar, select Cell$\\rightarrow$Run All).\n",
    "\n",
    "Make sure you fill in any place that says `YOUR CODE HERE` or \"YOUR ANSWER HERE\", as well as your name and collaborators below:\n",
    "\n"
   ]
  },
  {
   "cell_type": "code",
   "execution_count": 2,
   "id": "a464c58c",
   "metadata": {},
   "outputs": [],
   "source": [
    "NAME = \"\"\n",
    "COLLABORATORS = \"\"\n"
   ]
  },
  {
   "cell_type": "markdown",
   "id": "8721c3dc-7a5d-472d-a69c-d301188ba4de",
   "metadata": {},
   "source": [
    "Suppose you want to solve a difficult nonlinear algebraic equation that cannot readily be solved with algebra. For example, consider $f(x) = x e^{-x}$, and you seek to find the value of $x$ that makes this function equal to 0.1. One way to do this is to use a nonlinear algebra solver. In this problem, we will consider a way to solve it by integrating a differential equation.\n",
    "\n",
    "The idea is to derive the derivative of the function, $f'(x)$, and then solve the initial value problem with an event function that finds the solution you want."
   ]
  },
  {
   "cell_type": "markdown",
   "id": "67546a32-db5e-455b-8644-4253d5e390c4",
   "metadata": {},
   "source": [
    "# First, plot the function\n",
    "You should plot the function to see if there is a solution. Consider an x-range from 0 to 5. Comment on whether there are any solutions, and if so how many and approximately where they are."
   ]
  },
  {
   "cell_type": "code",
   "execution_count": 6,
   "id": "bda5b2fd-cc9e-4332-96f0-dbea058879c9",
   "metadata": {},
   "outputs": [],
   "source": []
  },
  {
   "cell_type": "markdown",
   "id": "a42f193e-4f0d-4a47-876d-10a1d6f53526",
   "metadata": {},
   "outputs": [],
   "source": []
  },
  {
   "cell_type": "markdown",
   "id": "91dfb84a-2b15-407d-8dfc-c44109e2ac2d",
   "metadata": {},
   "source": [
    "# Derive f'(x)\n",
    "This should be done by hand, and the result described in the next cell. Write a function for the derivative."
   ]
  },
  {
   "cell_type": "code",
   "execution_count": 7,
   "id": "aff17893-3154-4067-9de0-fec309449d73",
   "metadata": {},
   "outputs": [],
   "source": []
  },
  {
   "cell_type": "markdown",
   "id": "dc772311-cf42-4179-bda4-ca9663b86c36",
   "metadata": {},
   "source": [
    "# Solve the ode\n",
    "Now that you have an $f'(x)$ Solve the initial value problem with $f(0)$ over the x-range that you plotted the original function on. Use an event function to identify points where $f(x)=0.1$.\n",
    "\n",
    "Prepare a plot of the solution that has the following features:\n",
    "\n",
    "1.  Plot the original function provided in this problem.\n",
    "2.  Plot the solution you got from integrating $f'(x)$.\n",
    "3.  Plot where your solution points you found are.\n",
    "\n"
   ]
  },
  {
   "cell_type": "code",
   "execution_count": 9,
   "id": "4336c2c5-5807-468c-9ac4-6f0cf2d832fb",
   "metadata": {},
   "outputs": [],
   "source": []
  },
  {
   "cell_type": "code",
   "execution_count": 13,
   "id": "d1f2b0c8-1905-4113-b07e-f5d977c52d7c",
   "metadata": {},
   "outputs": [],
   "source": []
  },
  {
   "cell_type": "markdown",
   "id": "fb6ac11e-0620-49aa-9fe4-ee598b41d25e",
   "metadata": {},
   "source": [
    "# Use root to solve it also, and compare your results."
   ]
  },
  {
   "cell_type": "markdown",
   "id": "0963c0db",
   "metadata": {},
   "source": [
    "---\n",
    "\n"
   ]
  },
  {
   "cell_type": "code",
   "execution_count": 15,
   "id": "0f0de12d-c16f-4aac-868c-11f0d072eb3e",
   "metadata": {
    "nbgrader": {
     "grade": true,
     "grade_id": "cell-92da3734a5a2e41e",
     "locked": false,
     "points": 0,
     "schema_version": 3,
     "solution": true,
     "task": false
    },
    "tags": []
   },
   "outputs": [],
   "source": []
  },
  {
   "cell_type": "markdown",
   "id": "613d1a50-b2bb-41c8-b643-4883566ecee7",
   "metadata": {},
   "source": [
    "When you are done, download a PDF and turn it in on Canvas. Make sure to save your notebook, then run this cell and click on the download link."
   ]
  },
  {
   "cell_type": "code",
   "execution_count": null,
   "id": "d39da989-d274-4dc2-a01a-51a59375ffd9",
   "metadata": {
    "tags": [
     "raises-exception",
     "remove-output"
    ]
   },
   "outputs": [],
   "source": [
    "%run ~/s25-06623/s25.py\n",
    "%pdf"
   ]
  },
  {
   "cell_type": "markdown",
   "id": "6a974f57-c57c-4441-b2c9-4c6bc4a31ff7",
   "metadata": {},
   "source": [
    "\n",
    "\n"
   ]
  }
 ],
 "metadata": {
  "kernelspec": {
   "display_name": "Python 3 (ipykernel)",
   "language": "python",
   "name": "python3"
  },
  "language_info": {
   "codemirror_mode": {
    "name": "ipython",
    "version": 3
   },
   "file_extension": ".py",
   "mimetype": "text/x-python",
   "name": "python",
   "nbconvert_exporter": "python",
   "pygments_lexer": "ipython3",
   "version": "3.12.6"
  },
  "widgets": {
   "application/vnd.jupyter.widget-state+json": {
    "state": {},
    "version_major": 2,
    "version_minor": 0
   }
  }
 },
 "nbformat": 4,
 "nbformat_minor": 5
}
